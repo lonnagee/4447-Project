{
 "cells": [
  {
   "cell_type": "markdown",
   "id": "2c304319",
   "metadata": {},
   "source": [
    "# Trying pyspark as a way to look at the entire dataset"
   ]
  },
  {
   "cell_type": "code",
   "execution_count": 1,
   "id": "aa4ae769",
   "metadata": {},
   "outputs": [
    {
     "name": "stderr",
     "output_type": "stream",
     "text": [
      "/Users/sean/Documents/University_of_denver/comp_4447_tools_1/my_venv/tools_venv/lib/python3.10/site-packages/pyspark/pandas/__init__.py:50: UserWarning: 'PYARROW_IGNORE_TIMEZONE' environment variable was not set. It is required to set this environment variable to '1' in both driver and executor sides if you use pyarrow>=2.0.0. pandas-on-Spark will set it for you but it does not work if there is a Spark context already launched.\n",
      "  warnings.warn(\n"
     ]
    }
   ],
   "source": [
    "#spark imports\n",
    "import findspark\n",
    "findspark.init()\n",
    "import pyspark\n",
    "from pyspark.sql import SparkSession\n",
    "from pyspark.sql.functions import col\n",
    "import pyspark.sql.functions as funcs\n",
    "import pandas as pd\n",
    "import pyspark.pandas as ps"
   ]
  },
  {
   "cell_type": "code",
   "execution_count": 2,
   "id": "93400111",
   "metadata": {},
   "outputs": [
    {
     "name": "stderr",
     "output_type": "stream",
     "text": [
      "23/07/16 13:39:28 WARN Utils: Your hostname, Seans-MacBook-Pro.local resolves to a loopback address: 127.0.0.1; using 10.0.0.102 instead (on interface en0)\n",
      "23/07/16 13:39:28 WARN Utils: Set SPARK_LOCAL_IP if you need to bind to another address\n",
      "Setting default log level to \"WARN\".\n",
      "To adjust logging level use sc.setLogLevel(newLevel). For SparkR, use setLogLevel(newLevel).\n",
      "23/07/16 13:39:29 WARN NativeCodeLoader: Unable to load native-hadoop library for your platform... using builtin-java classes where applicable\n",
      "23/07/16 13:39:40 WARN GarbageCollectionMetrics: To enable non-built-in garbage collector(s) List(G1 Concurrent GC), users should configure it(them) to spark.eventLog.gcMetrics.youngGenerationGarbageCollectors or spark.eventLog.gcMetrics.oldGenerationGarbageCollectors\n",
      "                                                                                \r"
     ]
    }
   ],
   "source": [
    "spark = SparkSession.builder \\\n",
    ".master(\"local[1]\") \\\n",
    ".appName(\"tools_project\") \\\n",
    ".getOrCreate()\n",
    "\n",
    "df =spark.read.json(\"/Users/sean/Documents/University_of_denver/comp_4447_tools_1/Group_project/yelp_dataset/yelp_academic_dataset_review.json\")\n"
   ]
  },
  {
   "cell_type": "markdown",
   "id": "0d19a577",
   "metadata": {},
   "source": [
    "## We can look at the schema for the dataframe"
   ]
  },
  {
   "cell_type": "code",
   "execution_count": 4,
   "id": "a5fe0490",
   "metadata": {},
   "outputs": [
    {
     "name": "stdout",
     "output_type": "stream",
     "text": [
      "root\n",
      " |-- business_id: string (nullable = true)\n",
      " |-- cool: long (nullable = true)\n",
      " |-- date: string (nullable = true)\n",
      " |-- funny: long (nullable = true)\n",
      " |-- review_id: string (nullable = true)\n",
      " |-- stars: double (nullable = true)\n",
      " |-- text: string (nullable = true)\n",
      " |-- useful: long (nullable = true)\n",
      " |-- user_id: string (nullable = true)\n",
      "\n"
     ]
    }
   ],
   "source": [
    "df.printSchema()"
   ]
  },
  {
   "cell_type": "markdown",
   "id": "7af305b4",
   "metadata": {},
   "source": [
    "## Lets drop some of the columns we dont have a use for"
   ]
  },
  {
   "cell_type": "code",
   "execution_count": 5,
   "id": "02aa31e0",
   "metadata": {},
   "outputs": [
    {
     "name": "stdout",
     "output_type": "stream",
     "text": [
      "root\n",
      " |-- business_id: string (nullable = true)\n",
      " |-- date: string (nullable = true)\n",
      " |-- review_id: string (nullable = true)\n",
      " |-- stars: double (nullable = true)\n",
      " |-- text: string (nullable = true)\n",
      " |-- user_id: string (nullable = true)\n",
      "\n"
     ]
    }
   ],
   "source": [
    "cols_to_drop = (\"cool\",\"funny\", \"useful\")\n",
    "df = df.drop(*cols_to_drop)\n",
    "df.printSchema()"
   ]
  },
  {
   "cell_type": "markdown",
   "id": "122639aa",
   "metadata": {},
   "source": [
    "## Lets see if we have any null values in the important colmuns"
   ]
  },
  {
   "cell_type": "code",
   "execution_count": 6,
   "id": "10c776f4",
   "metadata": {},
   "outputs": [
    {
     "name": "stderr",
     "output_type": "stream",
     "text": [
      "                                                                                \r"
     ]
    },
    {
     "data": {
      "text/plain": [
       "0"
      ]
     },
     "execution_count": 6,
     "metadata": {},
     "output_type": "execute_result"
    }
   ],
   "source": [
    "df.where(col(\"business_id\").isNull()).count()"
   ]
  },
  {
   "cell_type": "code",
   "execution_count": 7,
   "id": "9a636d78",
   "metadata": {},
   "outputs": [
    {
     "name": "stderr",
     "output_type": "stream",
     "text": [
      "                                                                                \r"
     ]
    },
    {
     "data": {
      "text/plain": [
       "0"
      ]
     },
     "execution_count": 7,
     "metadata": {},
     "output_type": "execute_result"
    }
   ],
   "source": [
    "df.where(col(\"text\").isNull()).count()"
   ]
  },
  {
   "cell_type": "markdown",
   "id": "e44b1d61",
   "metadata": {},
   "source": [
    "### Lets look and see if we have some serial reviewers"
   ]
  },
  {
   "cell_type": "code",
   "execution_count": 8,
   "id": "8865cbdd",
   "metadata": {},
   "outputs": [
    {
     "name": "stderr",
     "output_type": "stream",
     "text": [
      "[Stage 9:===================>                                       (1 + 1) / 3]\r"
     ]
    },
    {
     "name": "stdout",
     "output_type": "stream",
     "text": [
      "+--------------------+-----+\n",
      "|             user_id|count|\n",
      "+--------------------+-----+\n",
      "|_BcWyKQL16ndpBdgg...| 3048|\n",
      "|Xw7ZjaGfr0WNVt6s_...| 1840|\n",
      "|0Igx-a1wAstiBDerG...| 1747|\n",
      "|-G7Zkl1wIWBBmD0KR...| 1682|\n",
      "|ET8n-r7glWYqZhuR6...| 1653|\n",
      "|bYENop4BuQepBjM1-...| 1578|\n",
      "|1HM81n6n4iPIFU5d2...| 1554|\n",
      "|fr1Hz2acAb3OaL3l6...| 1447|\n",
      "|wXdbkFZsfDR7utJvb...| 1396|\n",
      "|Um5bfs5DH6eizgjH3...| 1391|\n",
      "|qjfMBIZpQT9DDtw_B...| 1324|\n",
      "|VL12EhEdT4OWqGq0n...| 1308|\n",
      "|bJ5FtCtZX3ZZacz2_...| 1298|\n",
      "|pou3BbKsIozfH50rx...| 1247|\n",
      "|ouODopBKF3AqfCkuQ...| 1129|\n",
      "|B-s-8VUnuBjGTP3d0...| 1087|\n",
      "|-kLVfaJytOJY2-QdQ...| 1076|\n",
      "|vHc-UrI9yfL_pnnc6...| 1071|\n",
      "|CfX4sTIFFNaRchNsw...| 1047|\n",
      "|AHRrG3T1gJpHvtpZ-...| 1041|\n",
      "+--------------------+-----+\n",
      "only showing top 20 rows\n",
      "\n"
     ]
    },
    {
     "name": "stderr",
     "output_type": "stream",
     "text": [
      "\r",
      "[Stage 9:=======================================>                   (2 + 1) / 3]\r",
      "\r",
      "                                                                                \r"
     ]
    }
   ],
   "source": [
    "df.groupBy([\"user_id\"]) \\\n",
    ".count() \\\n",
    ".where('count > 1')\\\n",
    ".sort('count', ascending=False)\\\n",
    ".show()"
   ]
  },
  {
   "cell_type": "markdown",
   "id": "adf461ea",
   "metadata": {},
   "source": [
    "## Lets check if they have multiple reviews for the same buisness"
   ]
  },
  {
   "cell_type": "code",
   "execution_count": 9,
   "id": "15ecb7ec",
   "metadata": {},
   "outputs": [
    {
     "name": "stderr",
     "output_type": "stream",
     "text": [
      "[Stage 12:======================================>                   (4 + 1) / 6]\r"
     ]
    },
    {
     "name": "stdout",
     "output_type": "stream",
     "text": [
      "+--------------------+--------------------+-----+\n",
      "|             user_id|         business_id|count|\n",
      "+--------------------+--------------------+-----+\n",
      "|a0DnfD31lNdiBTY2-...|C6YaSrMAzy3jJqinl...|   40|\n",
      "|a0DnfD31lNdiBTY2-...|FCCnOgjjvwQJBAy3u...|   38|\n",
      "|I6x-ZBHeCNlMnmtfU...|PUfhLM-MkjQYZw4ld...|   32|\n",
      "|xWmYN57XXZbg0LOK8...|gfLsBY-xsNE9-ktiT...|   31|\n",
      "|EryvaUTsMnk26eiau...|3_icitB518vI8Hr0w...|   29|\n",
      "|IiUGGCANINjDS4egi...|Yv9KUZ-N3otoKUtTo...|   24|\n",
      "|I6x-ZBHeCNlMnmtfU...|cuXUuoOSZ4VbV6jvh...|   22|\n",
      "|EryvaUTsMnk26eiau...|YOdGWNE5nl73AUoWp...|   20|\n",
      "|mVtmlFPxA8cBzhaum...|aYHjJJ64whQsxZjx5...|   20|\n",
      "|EYC10zgoEv-d--NSE...|SCXkyyKWzS7qWl2jB...|   18|\n",
      "|i-kVxYDUksuuuxGF1...|AbPQR7DfUZOwoUdgS...|   17|\n",
      "|d67zTET_2IuVoWcUU...|dybSe2rNDk1hNMpes...|   17|\n",
      "|981NCKdOP8l0pbGqe...|8-0EBUcwlrRMWhSNd...|   17|\n",
      "|F8vHZipbIVclQZEME...|-jsmtvdoUI-GJRSkl...|   16|\n",
      "|o14c28vxH5AomMc8r...|pRkw4Kfs3tsMU1bgw...|   16|\n",
      "|WVqS85AUR20gbSFku...|zwe9H6Xxqb1_E09A2...|   15|\n",
      "|gF9BKX9fuTPQL-EFv...|zgSZxYaCI0wcMTR0D...|   15|\n",
      "|XzpJ4uHkxARCFQiZ9...|7Flr6AcqSBotjFPB0...|   15|\n",
      "|iwpEsTz2WPEuLVBiY...|3h0RVnaMCfX3ciHdC...|   15|\n",
      "|xWmYN57XXZbg0LOK8...|yzcZ0VkgyxmiH5M_8...|   14|\n",
      "+--------------------+--------------------+-----+\n",
      "only showing top 20 rows\n",
      "\n"
     ]
    },
    {
     "name": "stderr",
     "output_type": "stream",
     "text": [
      "\r",
      "                                                                                \r"
     ]
    }
   ],
   "source": [
    "df.groupBy([\"user_id\", \"business_id\"]) \\\n",
    ".count() \\\n",
    ".where(\"count > 1\") \\\n",
    ".sort(\"count\", ascending=False) \\\n",
    ".show()\n"
   ]
  },
  {
   "cell_type": "markdown",
   "id": "f681b5c9",
   "metadata": {},
   "source": [
    "## Lets drop the rows where a individual has reviewed the same buisness multiple times"
   ]
  },
  {
   "cell_type": "code",
   "execution_count": 10,
   "id": "b6074856",
   "metadata": {},
   "outputs": [
    {
     "name": "stderr",
     "output_type": "stream",
     "text": [
      "                                                                                \r"
     ]
    },
    {
     "data": {
      "text/plain": [
       "6990280"
      ]
     },
     "execution_count": 10,
     "metadata": {},
     "output_type": "execute_result"
    }
   ],
   "source": [
    "df.count()"
   ]
  },
  {
   "cell_type": "code",
   "execution_count": 11,
   "id": "f5e2ad7f",
   "metadata": {},
   "outputs": [],
   "source": [
    "df = df.dropDuplicates([\"user_id\", \"business_id\"])"
   ]
  },
  {
   "cell_type": "code",
   "execution_count": 12,
   "id": "1b3afecc",
   "metadata": {},
   "outputs": [
    {
     "name": "stderr",
     "output_type": "stream",
     "text": [
      "                                                                                \r"
     ]
    },
    {
     "data": {
      "text/plain": [
       "6745760"
      ]
     },
     "execution_count": 12,
     "metadata": {},
     "output_type": "execute_result"
    }
   ],
   "source": [
    "df.count()"
   ]
  },
  {
   "cell_type": "markdown",
   "id": "db6a5ff4",
   "metadata": {},
   "source": [
    "## Checking to make sure we did what we thought"
   ]
  },
  {
   "cell_type": "code",
   "execution_count": 13,
   "id": "cdcbd887",
   "metadata": {},
   "outputs": [
    {
     "name": "stderr",
     "output_type": "stream",
     "text": [
      "[Stage 24:======================================>                   (4 + 1) / 6]\r"
     ]
    },
    {
     "name": "stdout",
     "output_type": "stream",
     "text": [
      "+-------+-----------+-----+\n",
      "|user_id|business_id|count|\n",
      "+-------+-----------+-----+\n",
      "+-------+-----------+-----+\n",
      "\n"
     ]
    },
    {
     "name": "stderr",
     "output_type": "stream",
     "text": [
      "\r",
      "[Stage 24:================================================>         (5 + 1) / 6]\r",
      "\r",
      "                                                                                \r"
     ]
    }
   ],
   "source": [
    "df.groupBy([\"user_id\", \"business_id\"]) \\\n",
    ".count() \\\n",
    ".where(\"count > 1\") \\\n",
    ".sort(\"count\", ascending=False) \\\n",
    ".show()\n"
   ]
  },
  {
   "cell_type": "markdown",
   "id": "8f5ac541",
   "metadata": {},
   "source": [
    "## Success we now have at most one review from a user per buisness. Lets see if we can get the size down enough to convert to a pandas df for nlp"
   ]
  },
  {
   "cell_type": "code",
   "execution_count": 14,
   "id": "622cdfee",
   "metadata": {},
   "outputs": [
    {
     "name": "stdout",
     "output_type": "stream",
     "text": [
      "root\n",
      " |-- business_id: string (nullable = true)\n",
      " |-- date: string (nullable = true)\n",
      " |-- review_id: string (nullable = true)\n",
      " |-- stars: double (nullable = true)\n",
      " |-- text: string (nullable = true)\n",
      " |-- user_id: string (nullable = true)\n",
      "\n"
     ]
    }
   ],
   "source": [
    "df.printSchema()"
   ]
  },
  {
   "cell_type": "code",
   "execution_count": 15,
   "id": "b45202e1",
   "metadata": {},
   "outputs": [
    {
     "name": "stdout",
     "output_type": "stream",
     "text": [
      "root\n",
      " |-- business_id: string (nullable = true)\n",
      " |-- stars: double (nullable = true)\n",
      " |-- text: string (nullable = true)\n",
      "\n"
     ]
    }
   ],
   "source": [
    "cols_to_drop = (\"date\", \"review_id\", \"user_id\")\n",
    "df = df.drop(*cols_to_drop)\n",
    "df.printSchema()"
   ]
  },
  {
   "cell_type": "markdown",
   "id": "1da1ba76",
   "metadata": {},
   "source": [
    "## using topandas() didnt work as it is still much to large, Ill try using the pandas api"
   ]
  },
  {
   "cell_type": "code",
   "execution_count": 18,
   "id": "b9e8af9b",
   "metadata": {},
   "outputs": [],
   "source": [
    "pandas_df = df.pandas_api()"
   ]
  },
  {
   "cell_type": "code",
   "execution_count": 19,
   "id": "54d93b98",
   "metadata": {},
   "outputs": [
    {
     "name": "stderr",
     "output_type": "stream",
     "text": [
      "23/07/16 13:43:09 WARN MemoryStore: Not enough space to cache rdd_67_6 in memory! (computed 5.2 MiB so far)\n",
      "23/07/16 13:43:09 WARN BlockManager: Persisting block rdd_67_6 to disk instead.\n",
      "23/07/16 13:43:10 WARN MemoryStore: Not enough space to cache rdd_67_7 in memory! (computed 5.2 MiB so far)\n",
      "23/07/16 13:43:10 WARN BlockManager: Persisting block rdd_67_7 to disk instead.\n",
      "23/07/16 13:43:11 WARN MemoryStore: Not enough space to cache rdd_67_8 in memory! (computed 5.2 MiB so far)\n",
      "23/07/16 13:43:11 WARN BlockManager: Persisting block rdd_67_8 to disk instead.\n",
      "23/07/16 13:43:11 WARN MemoryStore: Not enough space to cache rdd_67_9 in memory! (computed 5.2 MiB so far)\n",
      "23/07/16 13:43:11 WARN BlockManager: Persisting block rdd_67_9 to disk instead.\n",
      "23/07/16 13:43:12 WARN MemoryStore: Not enough space to cache rdd_67_10 in memory! (computed 5.2 MiB so far)\n",
      "23/07/16 13:43:12 WARN BlockManager: Persisting block rdd_67_10 to disk instead.\n",
      "23/07/16 13:43:13 WARN MemoryStore: Not enough space to cache rdd_67_11 in memory! (computed 5.2 MiB so far)\n",
      "23/07/16 13:43:13 WARN BlockManager: Persisting block rdd_67_11 to disk instead.\n",
      "23/07/16 13:43:13 WARN MemoryStore: Not enough space to cache rdd_67_12 in memory! (computed 5.2 MiB so far)\n",
      "23/07/16 13:43:13 WARN BlockManager: Persisting block rdd_67_12 to disk instead.\n",
      "23/07/16 13:43:14 WARN MemoryStore: Not enough space to cache rdd_67_13 in memory! (computed 7.7 MiB so far)\n",
      "23/07/16 13:43:14 WARN BlockManager: Persisting block rdd_67_13 to disk instead.\n",
      "23/07/16 13:43:14 WARN MemoryStore: Not enough space to cache rdd_67_14 in memory! (computed 7.8 MiB so far)\n",
      "23/07/16 13:43:14 WARN BlockManager: Persisting block rdd_67_14 to disk instead.\n",
      "23/07/16 13:43:15 WARN MemoryStore: Not enough space to cache rdd_67_15 in memory! (computed 7.8 MiB so far)\n",
      "23/07/16 13:43:15 WARN BlockManager: Persisting block rdd_67_15 to disk instead.\n",
      "23/07/16 13:43:16 WARN MemoryStore: Not enough space to cache rdd_67_16 in memory! (computed 5.2 MiB so far)\n",
      "23/07/16 13:43:16 WARN BlockManager: Persisting block rdd_67_16 to disk instead.\n",
      "23/07/16 13:43:16 WARN MemoryStore: Not enough space to cache rdd_67_17 in memory! (computed 7.8 MiB so far)\n",
      "23/07/16 13:43:16 WARN BlockManager: Persisting block rdd_67_17 to disk instead.\n",
      "23/07/16 13:43:17 WARN MemoryStore: Not enough space to cache rdd_67_18 in memory! (computed 7.8 MiB so far)\n",
      "23/07/16 13:43:17 WARN BlockManager: Persisting block rdd_67_18 to disk instead.\n",
      "23/07/16 13:43:18 WARN MemoryStore: Not enough space to cache rdd_67_19 in memory! (computed 7.8 MiB so far)\n",
      "23/07/16 13:43:18 WARN BlockManager: Persisting block rdd_67_19 to disk instead.\n",
      "23/07/16 13:43:18 WARN MemoryStore: Not enough space to cache rdd_67_20 in memory! (computed 7.7 MiB so far)\n",
      "23/07/16 13:43:18 WARN BlockManager: Persisting block rdd_67_20 to disk instead.\n",
      "23/07/16 13:43:19 WARN MemoryStore: Not enough space to cache rdd_67_21 in memory! (computed 5.2 MiB so far)\n",
      "23/07/16 13:43:19 WARN BlockManager: Persisting block rdd_67_21 to disk instead.\n",
      "23/07/16 13:43:19 WARN MemoryStore: Not enough space to cache rdd_67_22 in memory! (computed 7.7 MiB so far)\n",
      "23/07/16 13:43:19 WARN BlockManager: Persisting block rdd_67_22 to disk instead.\n",
      "23/07/16 13:43:20 WARN MemoryStore: Not enough space to cache rdd_67_23 in memory! (computed 7.8 MiB so far)\n",
      "23/07/16 13:43:20 WARN BlockManager: Persisting block rdd_67_23 to disk instead.\n",
      "23/07/16 13:43:21 WARN MemoryStore: Not enough space to cache rdd_67_24 in memory! (computed 5.2 MiB so far)\n",
      "23/07/16 13:43:21 WARN BlockManager: Persisting block rdd_67_24 to disk instead.\n",
      "23/07/16 13:43:21 WARN MemoryStore: Not enough space to cache rdd_67_25 in memory! (computed 5.2 MiB so far)\n",
      "23/07/16 13:43:21 WARN BlockManager: Persisting block rdd_67_25 to disk instead.\n",
      "23/07/16 13:43:22 WARN MemoryStore: Not enough space to cache rdd_67_26 in memory! (computed 5.2 MiB so far)\n",
      "23/07/16 13:43:22 WARN BlockManager: Persisting block rdd_67_26 to disk instead.\n",
      "23/07/16 13:43:22 WARN MemoryStore: Not enough space to cache rdd_67_27 in memory! (computed 5.2 MiB so far)\n",
      "23/07/16 13:43:22 WARN BlockManager: Persisting block rdd_67_27 to disk instead.\n",
      "23/07/16 13:43:23 WARN MemoryStore: Not enough space to cache rdd_67_28 in memory! (computed 5.2 MiB so far)\n",
      "23/07/16 13:43:23 WARN BlockManager: Persisting block rdd_67_28 to disk instead.\n",
      "23/07/16 13:43:24 WARN MemoryStore: Not enough space to cache rdd_67_29 in memory! (computed 5.2 MiB so far)\n",
      "23/07/16 13:43:24 WARN BlockManager: Persisting block rdd_67_29 to disk instead.\n",
      "23/07/16 13:43:24 WARN MemoryStore: Not enough space to cache rdd_67_30 in memory! (computed 5.2 MiB so far)\n",
      "23/07/16 13:43:24 WARN BlockManager: Persisting block rdd_67_30 to disk instead.\n",
      "23/07/16 13:43:25 WARN MemoryStore: Not enough space to cache rdd_67_31 in memory! (computed 5.2 MiB so far)\n",
      "23/07/16 13:43:25 WARN BlockManager: Persisting block rdd_67_31 to disk instead.\n",
      "23/07/16 13:43:25 WARN MemoryStore: Not enough space to cache rdd_67_32 in memory! (computed 7.8 MiB so far)\n",
      "23/07/16 13:43:25 WARN BlockManager: Persisting block rdd_67_32 to disk instead.\n",
      "23/07/16 13:43:26 WARN MemoryStore: Not enough space to cache rdd_67_33 in memory! (computed 7.8 MiB so far)\n",
      "23/07/16 13:43:26 WARN BlockManager: Persisting block rdd_67_33 to disk instead.\n",
      "23/07/16 13:43:27 WARN MemoryStore: Not enough space to cache rdd_67_34 in memory! (computed 7.8 MiB so far)\n",
      "23/07/16 13:43:27 WARN BlockManager: Persisting block rdd_67_34 to disk instead.\n",
      "23/07/16 13:43:27 WARN MemoryStore: Not enough space to cache rdd_67_35 in memory! (computed 7.7 MiB so far)\n",
      "23/07/16 13:43:27 WARN BlockManager: Persisting block rdd_67_35 to disk instead.\n",
      "23/07/16 13:43:28 WARN MemoryStore: Not enough space to cache rdd_67_36 in memory! (computed 7.8 MiB so far)\n",
      "23/07/16 13:43:28 WARN BlockManager: Persisting block rdd_67_36 to disk instead.\n",
      "23/07/16 13:43:28 WARN MemoryStore: Not enough space to cache rdd_67_37 in memory! (computed 7.8 MiB so far)\n",
      "23/07/16 13:43:28 WARN BlockManager: Persisting block rdd_67_37 to disk instead.\n",
      "23/07/16 13:43:29 WARN MemoryStore: Not enough space to cache rdd_67_38 in memory! (computed 7.8 MiB so far)\n",
      "23/07/16 13:43:29 WARN BlockManager: Persisting block rdd_67_38 to disk instead.\n",
      "23/07/16 13:43:30 WARN MemoryStore: Not enough space to cache rdd_67_39 in memory! (computed 7.7 MiB so far)\n",
      "23/07/16 13:43:30 WARN BlockManager: Persisting block rdd_67_39 to disk instead.\n",
      "23/07/16 13:43:30 WARN MemoryStore: Not enough space to cache rdd_67_40 in memory! (computed 5.2 MiB so far)\n",
      "23/07/16 13:43:30 WARN BlockManager: Persisting block rdd_67_40 to disk instead.\n",
      "23/07/16 13:43:31 WARN MemoryStore: Not enough space to cache rdd_67_41 in memory! (computed 5.1 MiB so far)\n",
      "23/07/16 13:43:31 WARN BlockManager: Persisting block rdd_67_41 to disk instead.\n",
      "23/07/16 13:43:31 WARN MemoryStore: Not enough space to cache rdd_67_42 in memory! (computed 5.2 MiB so far)\n",
      "23/07/16 13:43:31 WARN BlockManager: Persisting block rdd_67_42 to disk instead.\n",
      "23/07/16 13:43:32 WARN MemoryStore: Not enough space to cache rdd_67_43 in memory! (computed 5.2 MiB so far)\n",
      "23/07/16 13:43:32 WARN BlockManager: Persisting block rdd_67_43 to disk instead.\n",
      "23/07/16 13:43:33 WARN MemoryStore: Not enough space to cache rdd_67_44 in memory! (computed 5.2 MiB so far)\n",
      "23/07/16 13:43:33 WARN BlockManager: Persisting block rdd_67_44 to disk instead.\n",
      "23/07/16 13:43:33 WARN MemoryStore: Not enough space to cache rdd_67_45 in memory! (computed 5.2 MiB so far)\n",
      "23/07/16 13:43:33 WARN BlockManager: Persisting block rdd_67_45 to disk instead.\n",
      "23/07/16 13:43:34 WARN MemoryStore: Not enough space to cache rdd_67_46 in memory! (computed 7.8 MiB so far)\n",
      "23/07/16 13:43:34 WARN BlockManager: Persisting block rdd_67_46 to disk instead.\n",
      "23/07/16 13:43:34 WARN MemoryStore: Not enough space to cache rdd_67_47 in memory! (computed 7.7 MiB so far)\n",
      "23/07/16 13:43:34 WARN BlockManager: Persisting block rdd_67_47 to disk instead.\n",
      "23/07/16 13:43:35 WARN MemoryStore: Not enough space to cache rdd_67_48 in memory! (computed 5.2 MiB so far)\n",
      "23/07/16 13:43:35 WARN BlockManager: Persisting block rdd_67_48 to disk instead.\n"
     ]
    },
    {
     "name": "stderr",
     "output_type": "stream",
     "text": [
      "[Stage 27:======================================================> (48 + 1) / 49]\r",
      "\r",
      "                                                                                \r"
     ]
    },
    {
     "data": {
      "text/html": [
       "<div>\n",
       "<style scoped>\n",
       "    .dataframe tbody tr th:only-of-type {\n",
       "        vertical-align: middle;\n",
       "    }\n",
       "\n",
       "    .dataframe tbody tr th {\n",
       "        vertical-align: top;\n",
       "    }\n",
       "\n",
       "    .dataframe thead th {\n",
       "        text-align: right;\n",
       "    }\n",
       "</style>\n",
       "<table border=\"1\" class=\"dataframe\">\n",
       "  <thead>\n",
       "    <tr style=\"text-align: right;\">\n",
       "      <th></th>\n",
       "      <th>business_id</th>\n",
       "      <th>stars</th>\n",
       "      <th>text</th>\n",
       "    </tr>\n",
       "  </thead>\n",
       "  <tbody>\n",
       "    <tr>\n",
       "      <th>0</th>\n",
       "      <td>QHWYlmVbLC3K6eglWoHVvA</td>\n",
       "      <td>5.0</td>\n",
       "      <td>Dined here last night. Arrived just about 6:00...</td>\n",
       "    </tr>\n",
       "    <tr>\n",
       "      <th>1</th>\n",
       "      <td>CnhmThuteYExAEvBSzL0qg</td>\n",
       "      <td>5.0</td>\n",
       "      <td>This place is great!  Three years in a row I'v...</td>\n",
       "    </tr>\n",
       "    <tr>\n",
       "      <th>2</th>\n",
       "      <td>zFcE7bQ2oDfwpPgl_PxOTA</td>\n",
       "      <td>5.0</td>\n",
       "      <td>This is the best restaurant in Tampa for a won...</td>\n",
       "    </tr>\n",
       "    <tr>\n",
       "      <th>3</th>\n",
       "      <td>2Z0Clt72JFouB0qkMC2mig</td>\n",
       "      <td>5.0</td>\n",
       "      <td>Ein wirklich sehenswerter Garten ist sicherlic...</td>\n",
       "    </tr>\n",
       "    <tr>\n",
       "      <th>4</th>\n",
       "      <td>UeYZgcORV2Veo_BZzdiaTg</td>\n",
       "      <td>4.0</td>\n",
       "      <td>Historic spot in the quarter. Recommend the En...</td>\n",
       "    </tr>\n",
       "  </tbody>\n",
       "</table>\n",
       "</div>"
      ],
      "text/plain": [
       "              business_id  stars                                                                                                                                                                                                                                                                                                                                                                                                                                                                                                                                                                                                                                                                                                                                                                                                                                                                                                                                                                                                                                                                                                                   text\n",
       "0  QHWYlmVbLC3K6eglWoHVvA    5.0                                                                                                                                                                                                                                                                                                                                                                              Dined here last night. Arrived just about 6:00pm. He got one of the booths for 2 . This place was almost full. Started off with the French Onion Soup. By far...THE BEST FRENCH ONION SOUP.... Entrees we selected the Snapper Special and the Braised Pork shank. The portions on both are plentiful. We will have DATZ leftovers for dinner tonight. The apple crumb...kind of dessert with  vanilla ice cream was scrumptious,  I choose the Lemon- Coconut cake. White cake layered with a lemon custard filling and a fresh coconut icing. Huge portions again, will be yummy tonight.\\n\\nOur server, Vanessa was OUTSTANDING!!!!!   We will be back.....We had our EYE'S on the 10oz Hamburgers we saw passing us by several times.\n",
       "1  CnhmThuteYExAEvBSzL0qg    5.0                                                                                                                                                                                                                                                                                                                                                                                                                                                                                                                                                                                                                                 This place is great!  Three years in a row I've met friends and family there for my birthday dinner and it's never been a disappointment.  The bartender and wait staff are so professional and accommodating.  The food is always fresh and enticing.  I've always loved the atmosphere as well, as it's a younger crowd that is usually there when we go, it is not stuffy at all.  I've been in Brazilian steak houses in other countries and NaBrasa will always be my first pick.\n",
       "2  zFcE7bQ2oDfwpPgl_PxOTA    5.0                                                                                                                                                                                                                                                                                                                                                                                                                                                                                                                                                                   This is the best restaurant in Tampa for a wonderful meal close to the water. I have been to Oystercatchers on three occasions in two years. It has always been fantastic and never disappoints. \\nThe restaurant is beautiful and is enhanced by its magical location. \\nThe staff of waiters have been there for years. They are attentive an knowledgable about the Chef's menu and different preparations for a variety of fish entrees. \\nThe food is always well prepared and beautifully presented.\\nThis is a must for fine dining in Tampa!\n",
       "3  2Z0Clt72JFouB0qkMC2mig    5.0  Ein wirklich sehenswerter Garten ist sicherlich der 18th Century Garden auf der Nordseite der Walnut Street zwischen 3. und 4. Street. Er ist Bestandteil des Independence National Historical Park.\\n\\nDieser Garten ist ein gutes Beispiel für den europäischen geometrischen Gartenstil und erinnert an einen aus dem 18. Jahrhundert stammenden formalen englischen Garten. Die dort gepflanzten Bäume Sträucher und Blumen sind von der Art, wie sie auch im 18. Jahrhundert verwendet wurden.\\n\\nDer Garten ist in drei Teile aufgeteilt, einem Obstgarten, einem formalen Garten und einem Bereich für Kräuter und Gemüse. Der formale Garten ist mit Blumen der Saison gestaltet und einer Reihe von kleinen Obstbäumen.\\n\\nDie Laubengänge mit den Weinpflanzen sind sehr schön anzusehen. Wir hatten es uns im Schatten der Pergola für ein Päuschen bequem gemacht, um diesen kleinen schönen Garten auf uns wirken zu lassen. \\n\\nDer 18th Century Garden liegt neben dem Todd House und südlich von der Carpenters Hall. Der Eintritt ist frei. Ein wirklich schöner und bemerkenswerter kleiner Garten.\n",
       "4  UeYZgcORV2Veo_BZzdiaTg    4.0                                                                                                                                                                                                                                                                                                                                                                                                                                                                                                                                                                                                                                                                                                                                                 Historic spot in the quarter. Recommend the English Pimms Cup (more gin). Good spot for lunch with very reasonable prices. Tip- you can get the sides of things like red beans and rice or jambalaya for ice cream scoop/tapas size portions to go with the long list of sandwiches. Courtyard feels like a step back in time. Misty fans blowing to keep cool. Enjoy."
      ]
     },
     "execution_count": 19,
     "metadata": {},
     "output_type": "execute_result"
    }
   ],
   "source": [
    "pandas_df.head()"
   ]
  },
  {
   "cell_type": "markdown",
   "id": "2697917e",
   "metadata": {},
   "source": [
    "## Still not great"
   ]
  },
  {
   "cell_type": "code",
   "execution_count": null,
   "id": "488f4b8a",
   "metadata": {},
   "outputs": [],
   "source": []
  }
 ],
 "metadata": {
  "kernelspec": {
   "display_name": "Python 3 (ipykernel)",
   "language": "python",
   "name": "python3"
  },
  "language_info": {
   "codemirror_mode": {
    "name": "ipython",
    "version": 3
   },
   "file_extension": ".py",
   "mimetype": "text/x-python",
   "name": "python",
   "nbconvert_exporter": "python",
   "pygments_lexer": "ipython3",
   "version": "3.10.0"
  }
 },
 "nbformat": 4,
 "nbformat_minor": 5
}
