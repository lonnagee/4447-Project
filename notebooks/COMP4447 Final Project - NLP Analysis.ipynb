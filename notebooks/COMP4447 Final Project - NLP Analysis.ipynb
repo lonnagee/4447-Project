{
 "cells": [
  {
   "cell_type": "markdown",
   "metadata": {},
   "source": [
    "## Introduction:\n",
    "In the era of digital transformation, online reviews have become a powerful driving force influencing consumer choices and business reputation. Yelp, a prominent user-generated review platform, houses a vast repository of valuable insights encapsulated within millions of reviews. This project delves into the Yelp review dataset, employing data cleaning and natural language processing techniques to uncover hidden patterns and sentiments. By analyzing this rich textual data, we aim to assist businesses in understanding customer feedback, enhancing their services, and gaining an edge in an ever-competitive market. Let us embark on a journey of data exploration and sentiment analysis, revealing the untold story behind Yelp's myriad reviews.\n",
    "\n",
    "## Motivation and Dataset Description:\n",
    "Yelp is a popular online platform where users can provide reviews and ratings for businesses ranging from restaurants, cafes, and bars to local services and shops. The Yelp review dataset offers a wealth of information from millions of user-generated reviews, making it a valuable resource for conducting data-driven analyses and gaining insights into customer sentiments and behavior.\n",
    "\n",
    "The primary motivation behind this project is to explore the Yelp review dataset and leverage natural language processing (NLP) techniques to uncover patterns, sentiments, and trends hidden within the vast volume of textual data. By harnessing NLP, we aim to extract valuable information from the reviews, such as sentiment polarity, key phrases, and common topics, that can aid businesses in understanding customer feedback and enhancing their services.\n",
    "\n",
    "## Dataset Description:\n",
    "The Yelp review dataset is a comprehensive collection of user reviews, encompassing multiple attributes such as user IDs, business IDs, review text, and star ratings. The dataset spans diverse geographical locations, businesses, and user demographics, providing a rich and varied set of reviews.\n",
    "\n",
    "The main columns in the dataset include:\n",
    "\n",
    "- `review_id`: A unique identifier for each review.\n",
    "- `user_id`: The identifier of the user who wrote the review.\n",
    "- `business_id`: The identifier of the business being reviewed.\n",
    "- `stars`: The star rating given by the user (ranging from 1 to 5).\n",
    "- `useful`, `funny`, `cool`: The counts of how many users marked the review as useful, funny, or cool.\n",
    "- `text`: The textual content of the review.\n",
    "- `date`: The date and time when the review was posted.\n",
    "\n",
    "The dataset contains millions of reviews, making it a massive corpus of text that can be mined for valuable insights. However, like any real-world dataset, it also presents challenges, such as missing data, potential outliers, and the need for proper data cleaning and preprocessing.\n",
    "\n",
    "By analyzing the Yelp review dataset, we aim to unravel patterns of user behavior, perform sentiment analysis to gauge customer sentiments, and contribute to a better understanding of user feedback on various businesses.\n",
    "\n",
    "## Research Question\n",
    "How well can sentiment analysis accurately predict the sentiment polarity of Yelp reviews compared to the user-provided star ratings?\n",
    "\n",
    "In this study, we aim to employ Natural Language Processing (NLP) techniques, such as the VADER SentimentIntensityAnalyzer, to extract sentiment scores from the textual content of Yelp reviews. The research question focuses on comparing these sentiment scores with the star ratings assigned by users to assess the level of alignment between sentiment and rating.\n",
    "\n",
    "Through this analysis, we seek to explore whether the extracted sentiments closely align with the star ratings or if there are instances of discrepancies. By validating the sentiment analysis against user ratings, we aim to gain insights into the efficacy of NLP methods for capturing sentiment from reviews and uncover any underlying patterns in the user feedback."
   ]
  },
  {
   "cell_type": "markdown",
   "metadata": {},
   "source": [
    "## Required Libraries"
   ]
  },
  {
   "cell_type": "code",
   "execution_count": 12,
   "metadata": {},
   "outputs": [],
   "source": [
    "import pandas as pd\n",
    "import numpy as np\n",
    "import seaborn as sns\n",
    "import nltk\n",
    "import regex\n",
    "from nltk.sentiment.vader import SentimentIntensityAnalyzer\n",
    "from nltk.corpus import stopwords\n",
    "from nltk.tokenize import word_tokenize\n",
    "from nltk.stem import WordNetLemmatizer\n",
    "import matplotlib.pyplot as plt\n",
    "from wordcloud import WordCloud\n",
    "from wordcloud import STOPWORDS\n",
    "\n",
    "\n",
    "#from langdetect import detect, DetectorFactory"
   ]
  },
  {
   "cell_type": "markdown",
   "metadata": {},
   "source": [
    "## Get Data"
   ]
  },
  {
   "cell_type": "code",
   "execution_count": 5,
   "metadata": {},
   "outputs": [],
   "source": [
    "# We used python to extract the data from the tar file and save it to a csv file in the /data folder\n",
    "# tar file can be downloaded from here: https://www.yelp.com/dataset\n",
    "\n",
    "reviews_df_raw = pd.read_csv('yelp_academic_dataset_review.csv')"
   ]
  },
  {
   "cell_type": "code",
   "execution_count": 6,
   "metadata": {},
   "outputs": [],
   "source": [
    "# Added this as I dont have the csv version - MB\n",
    "reviews_df = pd.read_json('yelp_academic_dataset_review.json',lines =True)"
   ]
  },
  {
   "cell_type": "code",
   "execution_count": 7,
   "metadata": {},
   "outputs": [
    {
     "ename": "NameError",
     "evalue": "name 'reviews_df_raw' is not defined",
     "output_type": "error",
     "traceback": [
      "\u001b[0;31m---------------------------------------------------------------------------\u001b[0m",
      "\u001b[0;31mNameError\u001b[0m                                 Traceback (most recent call last)",
      "\u001b[0;32m/tmp/ipykernel_220/2217871661.py\u001b[0m in \u001b[0;36m<module>\u001b[0;34m\u001b[0m\n\u001b[0;32m----> 1\u001b[0;31m \u001b[0mreviews_df\u001b[0m \u001b[0;34m=\u001b[0m \u001b[0mreviews_df_raw\u001b[0m\u001b[0;34m\u001b[0m\u001b[0;34m\u001b[0m\u001b[0m\n\u001b[0m",
      "\u001b[0;31mNameError\u001b[0m: name 'reviews_df_raw' is not defined"
     ]
    }
   ],
   "source": [
    "reviews_df = reviews_df_raw"
   ]
  },
  {
   "cell_type": "markdown",
   "metadata": {},
   "source": [
    "## EDA"
   ]
  },
  {
   "cell_type": "code",
   "execution_count": null,
   "metadata": {},
   "outputs": [
    {
     "ename": "NameError",
     "evalue": "name 'reviews_df' is not defined",
     "output_type": "error",
     "traceback": [
      "\u001b[0;31m---------------------------------------------------------------------------\u001b[0m",
      "\u001b[0;31mNameError\u001b[0m                                 Traceback (most recent call last)",
      "\u001b[0;32m/tmp/ipykernel_29122/3028664945.py\u001b[0m in \u001b[0;36m<module>\u001b[0;34m\u001b[0m\n\u001b[0;32m----> 1\u001b[0;31m \u001b[0mreviews_df\u001b[0m\u001b[0;34m.\u001b[0m\u001b[0mhead\u001b[0m\u001b[0;34m(\u001b[0m\u001b[0;34m)\u001b[0m\u001b[0;34m\u001b[0m\u001b[0;34m\u001b[0m\u001b[0m\n\u001b[0m",
      "\u001b[0;31mNameError\u001b[0m: name 'reviews_df' is not defined"
     ]
    }
   ],
   "source": [
    "reviews_df.head()"
   ]
  },
  {
   "cell_type": "code",
   "execution_count": null,
   "metadata": {},
   "outputs": [
    {
     "name": "stdout",
     "output_type": "stream",
     "text": [
      "<class 'pandas.core.frame.DataFrame'>\n",
      "RangeIndex: 6990280 entries, 0 to 6990279\n",
      "Data columns (total 9 columns):\n",
      " #   Column       Dtype         \n",
      "---  ------       -----         \n",
      " 0   review_id    object        \n",
      " 1   user_id      object        \n",
      " 2   business_id  object        \n",
      " 3   stars        int64         \n",
      " 4   useful       int64         \n",
      " 5   funny        int64         \n",
      " 6   cool         int64         \n",
      " 7   text         object        \n",
      " 8   date         datetime64[ns]\n",
      "dtypes: datetime64[ns](1), int64(4), object(4)\n",
      "memory usage: 480.0+ MB\n"
     ]
    }
   ],
   "source": [
    "reviews_df.info()"
   ]
  },
  {
   "cell_type": "code",
   "execution_count": null,
   "metadata": {},
   "outputs": [
    {
     "data": {
      "text/html": [
       "<div>\n",
       "<style scoped>\n",
       "    .dataframe tbody tr th:only-of-type {\n",
       "        vertical-align: middle;\n",
       "    }\n",
       "\n",
       "    .dataframe tbody tr th {\n",
       "        vertical-align: top;\n",
       "    }\n",
       "\n",
       "    .dataframe thead th {\n",
       "        text-align: right;\n",
       "    }\n",
       "</style>\n",
       "<table border=\"1\" class=\"dataframe\">\n",
       "  <thead>\n",
       "    <tr style=\"text-align: right;\">\n",
       "      <th></th>\n",
       "      <th>stars</th>\n",
       "      <th>useful</th>\n",
       "      <th>funny</th>\n",
       "      <th>cool</th>\n",
       "    </tr>\n",
       "  </thead>\n",
       "  <tbody>\n",
       "    <tr>\n",
       "      <th>count</th>\n",
       "      <td>6.990280e+06</td>\n",
       "      <td>6.990280e+06</td>\n",
       "      <td>6.990280e+06</td>\n",
       "      <td>6.990280e+06</td>\n",
       "    </tr>\n",
       "    <tr>\n",
       "      <th>mean</th>\n",
       "      <td>3.748584e+00</td>\n",
       "      <td>1.184609e+00</td>\n",
       "      <td>3.265596e-01</td>\n",
       "      <td>4.986175e-01</td>\n",
       "    </tr>\n",
       "    <tr>\n",
       "      <th>std</th>\n",
       "      <td>1.478705e+00</td>\n",
       "      <td>3.253767e+00</td>\n",
       "      <td>1.688729e+00</td>\n",
       "      <td>2.172460e+00</td>\n",
       "    </tr>\n",
       "    <tr>\n",
       "      <th>min</th>\n",
       "      <td>1.000000e+00</td>\n",
       "      <td>-1.000000e+00</td>\n",
       "      <td>-1.000000e+00</td>\n",
       "      <td>-1.000000e+00</td>\n",
       "    </tr>\n",
       "    <tr>\n",
       "      <th>25%</th>\n",
       "      <td>3.000000e+00</td>\n",
       "      <td>0.000000e+00</td>\n",
       "      <td>0.000000e+00</td>\n",
       "      <td>0.000000e+00</td>\n",
       "    </tr>\n",
       "    <tr>\n",
       "      <th>50%</th>\n",
       "      <td>4.000000e+00</td>\n",
       "      <td>0.000000e+00</td>\n",
       "      <td>0.000000e+00</td>\n",
       "      <td>0.000000e+00</td>\n",
       "    </tr>\n",
       "    <tr>\n",
       "      <th>75%</th>\n",
       "      <td>5.000000e+00</td>\n",
       "      <td>1.000000e+00</td>\n",
       "      <td>0.000000e+00</td>\n",
       "      <td>0.000000e+00</td>\n",
       "    </tr>\n",
       "    <tr>\n",
       "      <th>max</th>\n",
       "      <td>5.000000e+00</td>\n",
       "      <td>1.182000e+03</td>\n",
       "      <td>7.920000e+02</td>\n",
       "      <td>4.040000e+02</td>\n",
       "    </tr>\n",
       "  </tbody>\n",
       "</table>\n",
       "</div>"
      ],
      "text/plain": [
       "              stars        useful         funny          cool\n",
       "count  6.990280e+06  6.990280e+06  6.990280e+06  6.990280e+06\n",
       "mean   3.748584e+00  1.184609e+00  3.265596e-01  4.986175e-01\n",
       "std    1.478705e+00  3.253767e+00  1.688729e+00  2.172460e+00\n",
       "min    1.000000e+00 -1.000000e+00 -1.000000e+00 -1.000000e+00\n",
       "25%    3.000000e+00  0.000000e+00  0.000000e+00  0.000000e+00\n",
       "50%    4.000000e+00  0.000000e+00  0.000000e+00  0.000000e+00\n",
       "75%    5.000000e+00  1.000000e+00  0.000000e+00  0.000000e+00\n",
       "max    5.000000e+00  1.182000e+03  7.920000e+02  4.040000e+02"
      ]
     },
     "execution_count": 45,
     "metadata": {},
     "output_type": "execute_result"
    }
   ],
   "source": [
    "reviews_df.describe()"
   ]
  },
  {
   "cell_type": "code",
   "execution_count": null,
   "metadata": {},
   "outputs": [
    {
     "data": {
      "text/plain": [
       "review_id      0\n",
       "user_id        1\n",
       "business_id    2\n",
       "stars          2\n",
       "useful         2\n",
       "funny          2\n",
       "cool           2\n",
       "text           2\n",
       "date           3\n",
       "dtype: int64"
      ]
     },
     "execution_count": 46,
     "metadata": {},
     "output_type": "execute_result"
    }
   ],
   "source": [
    "reviews_df.isnull().sum()"
   ]
  },
  {
   "cell_type": "code",
   "execution_count": null,
   "metadata": {},
   "outputs": [],
   "source": [
    "duplicate_rows = reviews_df.duplicated().sum()\n",
    "duplicate_review_text = reviews_df.duplicated(subset=['text']).sum()\n",
    "\n",
    "print(f'Count of duplicate rows: {duplicate_rows}')\n",
    "print(f'Count of duplicate review text: {duplicate_review_text}')"
   ]
  },
  {
   "cell_type": "code",
   "execution_count": null,
   "metadata": {},
   "outputs": [
    {
     "data": {
      "text/html": [
       "<div>\n",
       "<style scoped>\n",
       "    .dataframe tbody tr th:only-of-type {\n",
       "        vertical-align: middle;\n",
       "    }\n",
       "\n",
       "    .dataframe tbody tr th {\n",
       "        vertical-align: top;\n",
       "    }\n",
       "\n",
       "    .dataframe thead th {\n",
       "        text-align: right;\n",
       "    }\n",
       "</style>\n",
       "<table border=\"1\" class=\"dataframe\">\n",
       "  <thead>\n",
       "    <tr style=\"text-align: right;\">\n",
       "      <th></th>\n",
       "      <th>review_id</th>\n",
       "      <th>user_id</th>\n",
       "      <th>business_id</th>\n",
       "      <th>stars</th>\n",
       "      <th>useful</th>\n",
       "      <th>funny</th>\n",
       "      <th>cool</th>\n",
       "      <th>text</th>\n",
       "      <th>date</th>\n",
       "    </tr>\n",
       "  </thead>\n",
       "  <tbody>\n",
       "    <tr>\n",
       "      <th>6720172</th>\n",
       "      <td>4n5GRXIfsqPK6f4gvV-WDg</td>\n",
       "      <td>v3rb9TCvIH2Wnxp7wdvQOA</td>\n",
       "      <td>tsa8CBbBOcLfMYeUqIMovg</td>\n",
       "      <td>2.0</td>\n",
       "      <td>4.0</td>\n",
       "      <td>0.0</td>\n",
       "      <td>0.0</td>\n",
       "      <td>!!</td>\n",
       "      <td>2015-04-07 16:52:13</td>\n",
       "    </tr>\n",
       "    <tr>\n",
       "      <th>6364250</th>\n",
       "      <td>1FIeKZRI13-MMoyErZw3fA</td>\n",
       "      <td>TFAzjuXuibeN2JC328KbXg</td>\n",
       "      <td>-9NmUeTphyS9Lq1o9MACGw</td>\n",
       "      <td>4.0</td>\n",
       "      <td>0.0</td>\n",
       "      <td>0.0</td>\n",
       "      <td>0.0</td>\n",
       "      <td>!!</td>\n",
       "      <td>2015-05-03 14:06:26</td>\n",
       "    </tr>\n",
       "    <tr>\n",
       "      <th>3753726</th>\n",
       "      <td>xUR9r9_vVb9EwcXlu-yaLA</td>\n",
       "      <td>5RZDMSpeMNEJcgtgMxzGDQ</td>\n",
       "      <td>TjXbh5PwgCOFkvbi0_qrmA</td>\n",
       "      <td>1.0</td>\n",
       "      <td>1.0</td>\n",
       "      <td>0.0</td>\n",
       "      <td>0.0</td>\n",
       "      <td>!!!!!!!!\\n!!!!!!!!\\n!!!!!!!Do not eat here \\nI...</td>\n",
       "      <td>2018-06-06 00:52:54</td>\n",
       "    </tr>\n",
       "    <tr>\n",
       "      <th>3897866</th>\n",
       "      <td>RHxAvqe7npDBxVVff5VRWA</td>\n",
       "      <td>5RZDMSpeMNEJcgtgMxzGDQ</td>\n",
       "      <td>TjXbh5PwgCOFkvbi0_qrmA</td>\n",
       "      <td>1.0</td>\n",
       "      <td>3.0</td>\n",
       "      <td>0.0</td>\n",
       "      <td>1.0</td>\n",
       "      <td>!!!!!!!!\\n!!!!!!!!\\n!!!!!!!Do not eat here \\nI...</td>\n",
       "      <td>2018-06-26 22:23:27</td>\n",
       "    </tr>\n",
       "    <tr>\n",
       "      <th>4135426</th>\n",
       "      <td>by7RHCv3KEZ89C576_kNkA</td>\n",
       "      <td>dWu1E1lmdFZF7P621TPSEQ</td>\n",
       "      <td>CySqUcNz8oPiQTu4EXTnig</td>\n",
       "      <td>4.0</td>\n",
       "      <td>2.0</td>\n",
       "      <td>0.0</td>\n",
       "      <td>0.0</td>\n",
       "      <td>\"Burger of the Moment\" Do it! It is fantastic!...</td>\n",
       "      <td>2021-10-12 23:29:05</td>\n",
       "    </tr>\n",
       "    <tr>\n",
       "      <th>...</th>\n",
       "      <td>...</td>\n",
       "      <td>...</td>\n",
       "      <td>...</td>\n",
       "      <td>...</td>\n",
       "      <td>...</td>\n",
       "      <td>...</td>\n",
       "      <td>...</td>\n",
       "      <td>...</td>\n",
       "      <td>...</td>\n",
       "    </tr>\n",
       "    <tr>\n",
       "      <th>6621132</th>\n",
       "      <td>SqIjfoyzh5zzXwOc0SbX0Q</td>\n",
       "      <td>-aomHB1h0K6M5ysOBujv-w</td>\n",
       "      <td>Nt8bwriX3NX249EJC7XUsQ</td>\n",
       "      <td>5.0</td>\n",
       "      <td>0.0</td>\n",
       "      <td>0.0</td>\n",
       "      <td>0.0</td>\n",
       "      <td>凉拌土豆丝和牛筋好吃，服务员很热心，店的位置也很容易找 chinatown算是一家不错的面馆...</td>\n",
       "      <td>2015-01-30 23:05:57</td>\n",
       "    </tr>\n",
       "    <tr>\n",
       "      <th>3966004</th>\n",
       "      <td>gHWg7CsSAZmvNavF2JccXA</td>\n",
       "      <td>658KY3BAcjeSAK_d2LOMDA</td>\n",
       "      <td>8yUdqNLViWhmfbYVltkJ7Q</td>\n",
       "      <td>1.0</td>\n",
       "      <td>1.0</td>\n",
       "      <td>0.0</td>\n",
       "      <td>0.0</td>\n",
       "      <td>土曜日のブランチに来ました。たくさんの広い席があり自由に座れるので、とてもゆったり座れます。...</td>\n",
       "      <td>2017-10-27 10:00:10</td>\n",
       "    </tr>\n",
       "    <tr>\n",
       "      <th>3575987</th>\n",
       "      <td>PaOTpCGwVpxSPyE3XOA-Pg</td>\n",
       "      <td>658KY3BAcjeSAK_d2LOMDA</td>\n",
       "      <td>8yUdqNLViWhmfbYVltkJ7Q</td>\n",
       "      <td>2.0</td>\n",
       "      <td>0.0</td>\n",
       "      <td>0.0</td>\n",
       "      <td>0.0</td>\n",
       "      <td>土曜日のブランチに来ました。たくさんの広い席があり自由に座れるので、とてもゆったり座れます。...</td>\n",
       "      <td>2017-10-28 14:04:30</td>\n",
       "    </tr>\n",
       "    <tr>\n",
       "      <th>2923303</th>\n",
       "      <td>We were welcomed at the door. The staff here w...</td>\n",
       "      <td>NaN</td>\n",
       "      <td>NaN</td>\n",
       "      <td>NaN</td>\n",
       "      <td>NaN</td>\n",
       "      <td>NaN</td>\n",
       "      <td>NaN</td>\n",
       "      <td>NaN</td>\n",
       "      <td>NaN</td>\n",
       "    </tr>\n",
       "    <tr>\n",
       "      <th>2923304</th>\n",
       "      <td>There were so many great menu choices and a lo...</td>\n",
       "      <td>2016-03-21 19:31:55</td>\n",
       "      <td>NaN</td>\n",
       "      <td>NaN</td>\n",
       "      <td>NaN</td>\n",
       "      <td>NaN</td>\n",
       "      <td>NaN</td>\n",
       "      <td>NaN</td>\n",
       "      <td>NaN</td>\n",
       "    </tr>\n",
       "  </tbody>\n",
       "</table>\n",
       "<p>31652 rows × 9 columns</p>\n",
       "</div>"
      ],
      "text/plain": [
       "                                                 review_id  \\\n",
       "6720172                             4n5GRXIfsqPK6f4gvV-WDg   \n",
       "6364250                             1FIeKZRI13-MMoyErZw3fA   \n",
       "3753726                             xUR9r9_vVb9EwcXlu-yaLA   \n",
       "3897866                             RHxAvqe7npDBxVVff5VRWA   \n",
       "4135426                             by7RHCv3KEZ89C576_kNkA   \n",
       "...                                                    ...   \n",
       "6621132                             SqIjfoyzh5zzXwOc0SbX0Q   \n",
       "3966004                             gHWg7CsSAZmvNavF2JccXA   \n",
       "3575987                             PaOTpCGwVpxSPyE3XOA-Pg   \n",
       "2923303  We were welcomed at the door. The staff here w...   \n",
       "2923304  There were so many great menu choices and a lo...   \n",
       "\n",
       "                        user_id             business_id  stars  useful  funny  \\\n",
       "6720172  v3rb9TCvIH2Wnxp7wdvQOA  tsa8CBbBOcLfMYeUqIMovg    2.0     4.0    0.0   \n",
       "6364250  TFAzjuXuibeN2JC328KbXg  -9NmUeTphyS9Lq1o9MACGw    4.0     0.0    0.0   \n",
       "3753726  5RZDMSpeMNEJcgtgMxzGDQ  TjXbh5PwgCOFkvbi0_qrmA    1.0     1.0    0.0   \n",
       "3897866  5RZDMSpeMNEJcgtgMxzGDQ  TjXbh5PwgCOFkvbi0_qrmA    1.0     3.0    0.0   \n",
       "4135426  dWu1E1lmdFZF7P621TPSEQ  CySqUcNz8oPiQTu4EXTnig    4.0     2.0    0.0   \n",
       "...                         ...                     ...    ...     ...    ...   \n",
       "6621132  -aomHB1h0K6M5ysOBujv-w  Nt8bwriX3NX249EJC7XUsQ    5.0     0.0    0.0   \n",
       "3966004  658KY3BAcjeSAK_d2LOMDA  8yUdqNLViWhmfbYVltkJ7Q    1.0     1.0    0.0   \n",
       "3575987  658KY3BAcjeSAK_d2LOMDA  8yUdqNLViWhmfbYVltkJ7Q    2.0     0.0    0.0   \n",
       "2923303                     NaN                     NaN    NaN     NaN    NaN   \n",
       "2923304     2016-03-21 19:31:55                     NaN    NaN     NaN    NaN   \n",
       "\n",
       "         cool                                               text  \\\n",
       "6720172   0.0                                                 !!   \n",
       "6364250   0.0                                                 !!   \n",
       "3753726   0.0  !!!!!!!!\\n!!!!!!!!\\n!!!!!!!Do not eat here \\nI...   \n",
       "3897866   1.0  !!!!!!!!\\n!!!!!!!!\\n!!!!!!!Do not eat here \\nI...   \n",
       "4135426   0.0  \"Burger of the Moment\" Do it! It is fantastic!...   \n",
       "...       ...                                                ...   \n",
       "6621132   0.0  凉拌土豆丝和牛筋好吃，服务员很热心，店的位置也很容易找 chinatown算是一家不错的面馆...   \n",
       "3966004   0.0  土曜日のブランチに来ました。たくさんの広い席があり自由に座れるので、とてもゆったり座れます。...   \n",
       "3575987   0.0  土曜日のブランチに来ました。たくさんの広い席があり自由に座れるので、とてもゆったり座れます。...   \n",
       "2923303   NaN                                                NaN   \n",
       "2923304   NaN                                                NaN   \n",
       "\n",
       "                        date  \n",
       "6720172  2015-04-07 16:52:13  \n",
       "6364250  2015-05-03 14:06:26  \n",
       "3753726  2018-06-06 00:52:54  \n",
       "3897866  2018-06-26 22:23:27  \n",
       "4135426  2021-10-12 23:29:05  \n",
       "...                      ...  \n",
       "6621132  2015-01-30 23:05:57  \n",
       "3966004  2017-10-27 10:00:10  \n",
       "3575987  2017-10-28 14:04:30  \n",
       "2923303                  NaN  \n",
       "2923304                  NaN  \n",
       "\n",
       "[31652 rows x 9 columns]"
      ]
     },
     "execution_count": 56,
     "metadata": {},
     "output_type": "execute_result"
    }
   ],
   "source": [
    "duplicate_review_text_df = reviews_df[reviews_df.duplicated(subset='text', keep=False)]\n",
    "sorted_duplicate_review_text_df = duplicate_review_text_df.sort_values(by='text')\n",
    "sorted_duplicate_review_text_df"
   ]
  },
  {
   "cell_type": "code",
   "execution_count": null,
   "metadata": {},
   "outputs": [
    {
     "data": {
      "text/plain": [
       "6974127"
      ]
     },
     "execution_count": 3,
     "metadata": {},
     "output_type": "execute_result"
    }
   ],
   "source": [
    "# Remove duplicate rows\n",
    "reviews_df = reviews_df[~reviews_df.duplicated([\"text\"])]\n",
    "len(reviews_df)"
   ]
  },
  {
   "cell_type": "code",
   "execution_count": null,
   "metadata": {},
   "outputs": [
    {
     "data": {
      "text/plain": [
       "<AxesSubplot:xlabel='stars', ylabel='count'>"
      ]
     },
     "execution_count": 13,
     "metadata": {},
     "output_type": "execute_result"
    },
    {
     "data": {
      "image/png": "[encoded data removed]",
      "text/plain": [
       "<Figure size 432x288 with 1 Axes>"
      ]
     },
     "metadata": {
      "needs_background": "light"
     },
     "output_type": "display_data"
    }
   ],
   "source": [
    "sns.set_palette('rocket')\n",
    "sns.countplot(x = 'stars', data = reviews_df)"
   ]
  },
  {
   "cell_type": "code",
   "execution_count": null,
   "metadata": {},
   "outputs": [],
   "source": [
    "stopwords = set(STOPWORDS)\n",
    "\n",
    "# Wordcloud for all stars in dataset\n",
    "\n",
    "all_words = \" \".join(review for review in reviews_df['text'])\n",
    "all_wc = WordCloud(stopwords = stopwords).generate(all_words)\n",
    "\n",
    "plt.imshow(all_wc, interpolation='bilinear')\n",
    "plt.axis(\"off\")\n",
    "plt.figure(figsize = (16,10))\n",
    "plt.show()"
   ]
  },
  {
   "cell_type": "code",
   "execution_count": null,
   "metadata": {},
   "outputs": [],
   "source": [
    "# Five star review word clouds\n",
    "\n",
    "\n",
    "five_df = reviews_df[reviews_df['stars'] == 5]\n",
    "five_df.head()\n",
    "five_words = \" \".join(review for review in five_df['text'])\n",
    "five_wc = WordCloud(stopwords = stopwords).generate(five_words)\n",
    "plt.imshow(five_wc, interpolation='bilinear')\n",
    "plt.axis(\"off\")\n",
    "\n",
    "plt.s#how()"
   ]
  },
  {
   "cell_type": "code",
   "execution_count": null,
   "metadata": {},
   "outputs": [],
   "source": [
    "# Median (3 stars) WordCloud\n",
    "\n",
    "# And three star reviews\n",
    "\n",
    "\n",
    "three_df = reviews_df[reviews_df['stars'] == 3]\n",
    "\n",
    "three_words = \" \".join(review for review in three_df['text'])\n",
    "three_wc = WordCloud(stopwords = stopwords).generate(three_words)\n",
    "plt.imshow(three_wc, interpolation='bilinear')\n",
    "plt.axis(\"off\")\n",
    "\n",
    "plt.show()"
   ]
  },
  {
   "cell_type": "code",
   "execution_count": null,
   "metadata": {
    "vscode": {
     "languageId": "plaintext"
    }
   },
   "outputs": [],
   "source": [
    "# And one star reviews\n",
    "\n",
    "\n",
    "one_df = reviews_df[reviews_df['stars'] == 1]\n",
    "\n",
    "one_words = \" \".join(review for review in one_df['text'])\n",
    "one_wc = WordCloud(stopwords = stopwords).generate(one_words)\n",
    "plt.imshow(one_wc, interpolation='bilinear')\n",
    "plt.axis(\"off\")\n",
    "\n",
    "plt.show()"
   ]
  },
  {
   "cell_type": "code",
   "execution_count": 29,
   "metadata": {},
   "outputs": [],
   "source": [
    "# We drop these columns here, but down below, they are necessary for the heatmap\n",
    "\n",
    "feature_df = reviews_df.drop(['stars','text', 'business_id', 'review_id', 'user_id','date'], axis=1)\n",
    "label_df = reviews_df['stars'].copy()"
   ]
  },
  {
   "cell_type": "code",
   "execution_count": 30,
   "metadata": {},
   "outputs": [
    {
     "name": "stdout",
     "output_type": "stream",
     "text": [
      "<class 'pandas.core.frame.DataFrame'>\n",
      "RangeIndex: 6990280 entries, 0 to 6990279\n",
      "Data columns (total 3 columns):\n",
      " #   Column  Dtype\n",
      "---  ------  -----\n",
      " 0   useful  int64\n",
      " 1   funny   int64\n",
      " 2   cool    int64\n",
      "dtypes: int64(3)\n",
      "memory usage: 160.0 MB\n"
     ]
    }
   ],
   "source": [
    "feature_df.info()"
   ]
  },
  {
   "cell_type": "code",
   "execution_count": 20,
   "metadata": {},
   "outputs": [
    {
     "data": {
      "text/plain": [
       "review_id    6990280\n",
       "user_id      6990280\n",
       "useful       6990280\n",
       "funny        6990280\n",
       "cool         6990280\n",
       "date         6990280\n",
       "dtype: int64"
      ]
     },
     "execution_count": 20,
     "metadata": {},
     "output_type": "execute_result"
    }
   ],
   "source": [
    "feature_df.count()"
   ]
  },
  {
   "cell_type": "code",
   "execution_count": 31,
   "metadata": {},
   "outputs": [
    {
     "name": "stdout",
     "output_type": "stream",
     "text": [
      "           stars    useful     funny      cool\n",
      "stars   1.000000 -0.072458 -0.043217  0.068827\n",
      "useful -0.072458  1.000000  0.511803  0.718529\n",
      "funny  -0.043217  0.511803  1.000000  0.607310\n",
      "cool    0.068827  0.718529  0.607310  1.000000\n"
     ]
    }
   ],
   "source": [
    "corr_matrix = reviews_df.corr()\n",
    "print(corr_matrix)"
   ]
  },
  {
   "cell_type": "code",
   "execution_count": 32,
   "metadata": {},
   "outputs": [
    {
     "data": {
      "image/png": "[encoded data removed]",
      "text/plain": [
       "<Figure size 648x432 with 2 Axes>"
      ]
     },
     "metadata": {
      "needs_background": "light"
     },
     "output_type": "display_data"
    }
   ],
   "source": [
    "import seaborn as sns\n",
    "plt.figure(figsize=(9,6))\n",
    "sns.heatmap(corr_matrix)\n",
    "plt.show()"
   ]
  },
  {
   "cell_type": "code",
   "execution_count": 33,
   "metadata": {},
   "outputs": [],
   "source": [
    "from sklearn.model_selection import train_test_split\n",
    "\n",
    "x_train, x_test, y_train, y_test = train_test_split(feature_df, label_df, test_size=0.2, random_state=123)"
   ]
  },
  {
   "cell_type": "code",
   "execution_count": 36,
   "metadata": {},
   "outputs": [
    {
     "name": "stdout",
     "output_type": "stream",
     "text": [
      "RMSE:  1.86214238452878\n"
     ]
    }
   ],
   "source": [
    "from sklearn.linear_model import LogisticRegression\n",
    "from sklearn.metrics import confusion_matrix, ConfusionMatrixDisplay\n",
    "from sklearn.metrics import mean_squared_error\n",
    "\n",
    "lr = LogisticRegression(multi_class='multinomial', solver='lbfgs')\n",
    "lr.fit(x_train, y_train)\n",
    "lr_pred = lr.predict(x_test)\n",
    "rmse = np.sqrt(mean_squared_error(y_test, lr_pred))\n",
    "print('RMSE: ', rmse)"
   ]
  },
  {
   "cell_type": "code",
   "execution_count": 37,
   "metadata": {},
   "outputs": [
    {
     "name": "stdout",
     "output_type": "stream",
     "text": [
      "Logistic Regression Confusion Matrix:\n"
     ]
    },
    {
     "data": {
      "image/png": "[encoded data removed]",
      "text/plain": [
       "<Figure size 432x288 with 2 Axes>"
      ]
     },
     "metadata": {
      "needs_background": "light"
     },
     "output_type": "display_data"
    }
   ],
   "source": [
    "import matplotlib.pyplot as plt\n",
    "\n",
    "print(\"Logistic Regression Confusion Matrix:\")\n",
    "lr_confuse = confusion_matrix(y_test, lr_pred)\n",
    "disp = ConfusionMatrixDisplay(confusion_matrix=lr_confuse, display_labels=lr.classes_)\n",
    "disp.plot()\n",
    "plt.show()"
   ]
  },
  {
   "cell_type": "code",
   "execution_count": null,
   "metadata": {},
   "outputs": [],
   "source": [
    "from sklearn.tree import DecisionTreeRegressor\n",
    "from sklearn.model_selection import cross_val_score\n",
    "\n",
    "tree_model = DecisionTreeRegressor()\n",
    "tree_score = cross_val_score(tree_model, feature_df, label_df, cv=5, scoring='neg_mean_squared_error')\n",
    "tree_rmse = np.sqrt(-tree_score)\n",
    "\n",
    "print(\"Root Mean: \", tree_rmse.mean())"
   ]
  },
  {
   "cell_type": "code",
   "execution_count": null,
   "metadata": {},
   "outputs": [],
   "source": [
    "from sklearn.ensemble import RandomForestRegressor\n",
    "rf_model = RandomForestRegressor()\n",
    "rf_scores = cross_val_score(rf_model, feature_df, label_df, cv=5, scoring='neg_mean_squared_error')\n",
    "rf_rmse = np.sqrt(-rf_scores)\n",
    "\n",
    "print(\"Root Mean: \", rf_rmse.mean())"
   ]
  },
  {
   "cell_type": "code",
   "execution_count": 34,
   "metadata": {},
   "outputs": [
    {
     "name": "stderr",
     "output_type": "stream",
     "text": [
      "/home/mroohwee/.local/lib/python3.10/site-packages/sklearn/linear_model/_base.py:141: FutureWarning: 'normalize' was deprecated in version 1.0 and will be removed in 1.2.\n",
      "If you wish to scale the data, use Pipeline with a StandardScaler in a preprocessing stage. To reproduce the previous behavior:\n",
      "\n",
      "from sklearn.pipeline import make_pipeline\n",
      "\n",
      "model = make_pipeline(StandardScaler(with_mean=False), Lasso())\n",
      "\n",
      "If you wish to pass a sample_weight parameter, you need to pass it as a fit parameter to each step of the pipeline as follows:\n",
      "\n",
      "kwargs = {s[0] + '__sample_weight': sample_weight for s in model.steps}\n",
      "model.fit(X, y, **kwargs)\n",
      "\n",
      "Set parameter alpha to: original_alpha * np.sqrt(n_samples). \n",
      "  warnings.warn(\n"
     ]
    },
    {
     "data": {
      "text/plain": [
       "Index([], dtype='object')"
      ]
     },
     "execution_count": 34,
     "metadata": {},
     "output_type": "execute_result"
    }
   ],
   "source": [
    "from sklearn.datasets import load_boston\n",
    "from sklearn.feature_selection import SelectFromModel\n",
    "from sklearn.linear_model import LassoCV\n",
    "\n",
    "X = x_train\n",
    "y = y_train\n",
    "\n",
    "estimator = LassoCV(cv=5, normalize = True)\n",
    "\n",
    "# Set a minimum threshold of 0.25\n",
    "sfm = SelectFromModel(estimator, threshold=0.25, prefit=False, norm_order=1, max_features=None)\n",
    "\n",
    "sfm.fit(X, y)\n",
    "\n",
    "feature_idx = sfm.get_support()\n",
    "feature_name = X.columns[feature_idx]\n",
    "feature_name"
   ]
  },
  {
   "cell_type": "markdown",
   "metadata": {},
   "source": [
    "## Data Cleaning"
   ]
  },
  {
   "cell_type": "code",
   "execution_count": 38,
   "metadata": {},
   "outputs": [
    {
     "data": {
      "text/html": [
       "<div>\n",
       "<style scoped>\n",
       "    .dataframe tbody tr th:only-of-type {\n",
       "        vertical-align: middle;\n",
       "    }\n",
       "\n",
       "    .dataframe tbody tr th {\n",
       "        vertical-align: top;\n",
       "    }\n",
       "\n",
       "    .dataframe thead th {\n",
       "        text-align: right;\n",
       "    }\n",
       "</style>\n",
       "<table border=\"1\" class=\"dataframe\">\n",
       "  <thead>\n",
       "    <tr style=\"text-align: right;\">\n",
       "      <th></th>\n",
       "      <th>business_id</th>\n",
       "      <th>stars</th>\n",
       "      <th>text</th>\n",
       "      <th>date</th>\n",
       "    </tr>\n",
       "  </thead>\n",
       "  <tbody>\n",
       "    <tr>\n",
       "      <th>0</th>\n",
       "      <td>XQfwVwDr-v0ZS3_CbbE5Xw</td>\n",
       "      <td>3</td>\n",
       "      <td>If you decide to eat here, just be aware it is...</td>\n",
       "      <td>2018-07-07 22:09:11</td>\n",
       "    </tr>\n",
       "    <tr>\n",
       "      <th>1</th>\n",
       "      <td>7ATYjTIgM3jUlt4UM3IypQ</td>\n",
       "      <td>5</td>\n",
       "      <td>I've taken a lot of spin classes over the year...</td>\n",
       "      <td>2012-01-03 15:28:18</td>\n",
       "    </tr>\n",
       "    <tr>\n",
       "      <th>2</th>\n",
       "      <td>YjUWPpI6HXG530lwP-fb2A</td>\n",
       "      <td>3</td>\n",
       "      <td>Family diner. Had the buffet. Eclectic assortm...</td>\n",
       "      <td>2014-02-05 20:30:30</td>\n",
       "    </tr>\n",
       "    <tr>\n",
       "      <th>3</th>\n",
       "      <td>kxX2SOes4o-D3ZQBkiMRfA</td>\n",
       "      <td>5</td>\n",
       "      <td>Wow!  Yummy, different,  delicious.   Our favo...</td>\n",
       "      <td>2015-01-04 00:01:03</td>\n",
       "    </tr>\n",
       "    <tr>\n",
       "      <th>4</th>\n",
       "      <td>e4Vwtrqf-wpJfwesgvdgxQ</td>\n",
       "      <td>4</td>\n",
       "      <td>Cute interior and owner (?) gave us tour of up...</td>\n",
       "      <td>2017-01-14 20:54:15</td>\n",
       "    </tr>\n",
       "  </tbody>\n",
       "</table>\n",
       "</div>"
      ],
      "text/plain": [
       "              business_id  stars  \\\n",
       "0  XQfwVwDr-v0ZS3_CbbE5Xw      3   \n",
       "1  7ATYjTIgM3jUlt4UM3IypQ      5   \n",
       "2  YjUWPpI6HXG530lwP-fb2A      3   \n",
       "3  kxX2SOes4o-D3ZQBkiMRfA      5   \n",
       "4  e4Vwtrqf-wpJfwesgvdgxQ      4   \n",
       "\n",
       "                                                text                date  \n",
       "0  If you decide to eat here, just be aware it is... 2018-07-07 22:09:11  \n",
       "1  I've taken a lot of spin classes over the year... 2012-01-03 15:28:18  \n",
       "2  Family diner. Had the buffet. Eclectic assortm... 2014-02-05 20:30:30  \n",
       "3  Wow!  Yummy, different,  delicious.   Our favo... 2015-01-04 00:01:03  \n",
       "4  Cute interior and owner (?) gave us tour of up... 2017-01-14 20:54:15  "
      ]
     },
     "execution_count": 38,
     "metadata": {},
     "output_type": "execute_result"
    }
   ],
   "source": [
    "cols_to_drop =[\"review_id\", \"user_id\", \"useful\", \"funny\", \"cool\"]\n",
    "reviews_df.drop(cols_to_drop, inplace= True, axis=1)\n",
    "reviews_df.head()"
   ]
  },
  {
   "cell_type": "code",
   "execution_count": 32,
   "metadata": {},
   "outputs": [],
   "source": [
    "# reviews_df = reviews_df_raw.head(1000000)\n"
   ]
  },
  {
   "cell_type": "code",
   "execution_count": 39,
   "metadata": {},
   "outputs": [],
   "source": [
    "# This takes over an hour to run\n",
    "\n",
    "# def detect_language(text):\n",
    "#     try:\n",
    "#         return detect(text)\n",
    "#     except:\n",
    "#         return 'unknown'\n",
    "# DetectorFactory.seed = 0\n",
    "# reviews_df['language'] = reviews_df['text'].apply(detect_language)\n",
    "# reviews_df = reviews_df[reviews_df['language'] == 'en']\n",
    "\n",
    "reviews_df['text'] = reviews_df['text'].replace(r'\\n', ' ', regex=True)"
   ]
  },
  {
   "cell_type": "code",
   "execution_count": 40,
   "metadata": {},
   "outputs": [
    {
     "data": {
      "text/html": [
       "<div>\n",
       "<style scoped>\n",
       "    .dataframe tbody tr th:only-of-type {\n",
       "        vertical-align: middle;\n",
       "    }\n",
       "\n",
       "    .dataframe tbody tr th {\n",
       "        vertical-align: top;\n",
       "    }\n",
       "\n",
       "    .dataframe thead th {\n",
       "        text-align: right;\n",
       "    }\n",
       "</style>\n",
       "<table border=\"1\" class=\"dataframe\">\n",
       "  <thead>\n",
       "    <tr style=\"text-align: right;\">\n",
       "      <th></th>\n",
       "      <th>business_id</th>\n",
       "      <th>stars</th>\n",
       "      <th>text</th>\n",
       "      <th>date</th>\n",
       "      <th>language</th>\n",
       "    </tr>\n",
       "  </thead>\n",
       "  <tbody>\n",
       "    <tr>\n",
       "      <th>5673545</th>\n",
       "      <td>lr5YtQM64IxXdZFRYNbdxQ</td>\n",
       "      <td>5</td>\n",
       "      <td>My relationship with Klement Family Dental cam...</td>\n",
       "      <td>2016-10-30 00:02:32</td>\n",
       "      <td>True</td>\n",
       "    </tr>\n",
       "    <tr>\n",
       "      <th>3283348</th>\n",
       "      <td>hRskO0RDRW3Cq3k7_Kggcg</td>\n",
       "      <td>3</td>\n",
       "      <td>I wish they had half stars because honestly I ...</td>\n",
       "      <td>2017-08-06 15:12:23</td>\n",
       "      <td>True</td>\n",
       "    </tr>\n",
       "    <tr>\n",
       "      <th>3288704</th>\n",
       "      <td>f-7gzwLtoqis8StcrfzvPA</td>\n",
       "      <td>1</td>\n",
       "      <td>Classic old school sales with bait and switch....</td>\n",
       "      <td>2015-07-09 23:33:30</td>\n",
       "      <td>True</td>\n",
       "    </tr>\n",
       "    <tr>\n",
       "      <th>5717680</th>\n",
       "      <td>RqgS_YDueb2KgBpaNgGOZQ</td>\n",
       "      <td>4</td>\n",
       "      <td>The pizza is delicious and unusual. Their buff...</td>\n",
       "      <td>2014-10-17 23:24:27</td>\n",
       "      <td>True</td>\n",
       "    </tr>\n",
       "    <tr>\n",
       "      <th>3808800</th>\n",
       "      <td>ZYvfIICCz3aM411vfG3ryA</td>\n",
       "      <td>4</td>\n",
       "      <td>Roll out...  Roly Poly is pretty freakin aweso...</td>\n",
       "      <td>2013-01-22 22:46:59</td>\n",
       "      <td>True</td>\n",
       "    </tr>\n",
       "    <tr>\n",
       "      <th>5472780</th>\n",
       "      <td>FlWnK-_mlba2HNY_dQuSyA</td>\n",
       "      <td>1</td>\n",
       "      <td>Came at midnight because I was craving a milks...</td>\n",
       "      <td>2021-03-26 04:52:00</td>\n",
       "      <td>True</td>\n",
       "    </tr>\n",
       "    <tr>\n",
       "      <th>2235067</th>\n",
       "      <td>SsiPsj8NyiCBg84uU6y4Eg</td>\n",
       "      <td>1</td>\n",
       "      <td>Just went there to pick up food for dinner. We...</td>\n",
       "      <td>2016-09-24 02:05:20</td>\n",
       "      <td>True</td>\n",
       "    </tr>\n",
       "    <tr>\n",
       "      <th>2152100</th>\n",
       "      <td>A7z2nV4JUlmwBbQx3ge2rw</td>\n",
       "      <td>3</td>\n",
       "      <td>I came here for brunch with friends. I like th...</td>\n",
       "      <td>2015-02-04 09:35:52</td>\n",
       "      <td>True</td>\n",
       "    </tr>\n",
       "    <tr>\n",
       "      <th>3263794</th>\n",
       "      <td>GcJsCFzqvVVwydvBcxmJIA</td>\n",
       "      <td>1</td>\n",
       "      <td>More than disappointed to find my $20 worth of...</td>\n",
       "      <td>2018-12-29 20:12:36</td>\n",
       "      <td>True</td>\n",
       "    </tr>\n",
       "    <tr>\n",
       "      <th>236996</th>\n",
       "      <td>DRr5xdfHtqgWfhmdTU1B8Q</td>\n",
       "      <td>4</td>\n",
       "      <td>UPDATE***  Received a call from the manager an...</td>\n",
       "      <td>2012-09-04 18:19:37</td>\n",
       "      <td>True</td>\n",
       "    </tr>\n",
       "    <tr>\n",
       "      <th>6417957</th>\n",
       "      <td>t40e1Vl7vEfWEobf1DxRhg</td>\n",
       "      <td>4</td>\n",
       "      <td>Pretty good ice cream. The service was relaxed...</td>\n",
       "      <td>2018-07-09 20:33:27</td>\n",
       "      <td>True</td>\n",
       "    </tr>\n",
       "    <tr>\n",
       "      <th>548541</th>\n",
       "      <td>bMIVLkX6-0U2NVPaVwt94A</td>\n",
       "      <td>5</td>\n",
       "      <td>Authentic Mexican food. Just delicious. Decent...</td>\n",
       "      <td>2019-08-21 22:53:24</td>\n",
       "      <td>True</td>\n",
       "    </tr>\n",
       "    <tr>\n",
       "      <th>6572580</th>\n",
       "      <td>3Sxj2NQ-2Gr06qoax1R-Kw</td>\n",
       "      <td>5</td>\n",
       "      <td>Wow! By far the best sushi and calamari I've e...</td>\n",
       "      <td>2015-02-11 14:21:41</td>\n",
       "      <td>True</td>\n",
       "    </tr>\n",
       "    <tr>\n",
       "      <th>1502704</th>\n",
       "      <td>Ytj5hl9okgQu9lUmt60CjA</td>\n",
       "      <td>1</td>\n",
       "      <td>So we decided to try this place after another ...</td>\n",
       "      <td>2017-02-01 15:33:03</td>\n",
       "      <td>True</td>\n",
       "    </tr>\n",
       "    <tr>\n",
       "      <th>5516338</th>\n",
       "      <td>YHpoMRXJatNmnTklfGwUVA</td>\n",
       "      <td>1</td>\n",
       "      <td>If I could leave zero stars, I would.  Absolut...</td>\n",
       "      <td>2020-09-04 22:21:09</td>\n",
       "      <td>True</td>\n",
       "    </tr>\n",
       "    <tr>\n",
       "      <th>3742934</th>\n",
       "      <td>fK4RFqgIdu3Y9_yZBciIiw</td>\n",
       "      <td>2</td>\n",
       "      <td>Went here for a bday party two years ago. Sh**...</td>\n",
       "      <td>2018-07-07 16:21:18</td>\n",
       "      <td>True</td>\n",
       "    </tr>\n",
       "    <tr>\n",
       "      <th>6175911</th>\n",
       "      <td>wtIZzgMEhH5JNV3K4TD-Cg</td>\n",
       "      <td>4</td>\n",
       "      <td>I've been in Pet Planet only a couple of times...</td>\n",
       "      <td>2012-10-20 15:34:22</td>\n",
       "      <td>True</td>\n",
       "    </tr>\n",
       "    <tr>\n",
       "      <th>797670</th>\n",
       "      <td>7kHvPCBSmRgzDgjO9xXT1g</td>\n",
       "      <td>1</td>\n",
       "      <td>I'd give this zero stars if I could.  Tried to...</td>\n",
       "      <td>2014-05-11 04:35:22</td>\n",
       "      <td>True</td>\n",
       "    </tr>\n",
       "    <tr>\n",
       "      <th>3102174</th>\n",
       "      <td>mjv_6FqDShNYTPXWYeYbNw</td>\n",
       "      <td>5</td>\n",
       "      <td>This place is awesome ! The manager Julie is s...</td>\n",
       "      <td>2015-04-26 20:55:00</td>\n",
       "      <td>True</td>\n",
       "    </tr>\n",
       "    <tr>\n",
       "      <th>5186501</th>\n",
       "      <td>bPVPZeqMuYtU_yGCb4P-jg</td>\n",
       "      <td>5</td>\n",
       "      <td>Empty bowl I'm in NYC and I miss your food! We...</td>\n",
       "      <td>2015-04-10 23:02:29</td>\n",
       "      <td>True</td>\n",
       "    </tr>\n",
       "  </tbody>\n",
       "</table>\n",
       "</div>"
      ],
      "text/plain": [
       "                    business_id  stars  \\\n",
       "5673545  lr5YtQM64IxXdZFRYNbdxQ      5   \n",
       "3283348  hRskO0RDRW3Cq3k7_Kggcg      3   \n",
       "3288704  f-7gzwLtoqis8StcrfzvPA      1   \n",
       "5717680  RqgS_YDueb2KgBpaNgGOZQ      4   \n",
       "3808800  ZYvfIICCz3aM411vfG3ryA      4   \n",
       "5472780  FlWnK-_mlba2HNY_dQuSyA      1   \n",
       "2235067  SsiPsj8NyiCBg84uU6y4Eg      1   \n",
       "2152100  A7z2nV4JUlmwBbQx3ge2rw      3   \n",
       "3263794  GcJsCFzqvVVwydvBcxmJIA      1   \n",
       "236996   DRr5xdfHtqgWfhmdTU1B8Q      4   \n",
       "6417957  t40e1Vl7vEfWEobf1DxRhg      4   \n",
       "548541   bMIVLkX6-0U2NVPaVwt94A      5   \n",
       "6572580  3Sxj2NQ-2Gr06qoax1R-Kw      5   \n",
       "1502704  Ytj5hl9okgQu9lUmt60CjA      1   \n",
       "5516338  YHpoMRXJatNmnTklfGwUVA      1   \n",
       "3742934  fK4RFqgIdu3Y9_yZBciIiw      2   \n",
       "6175911  wtIZzgMEhH5JNV3K4TD-Cg      4   \n",
       "797670   7kHvPCBSmRgzDgjO9xXT1g      1   \n",
       "3102174  mjv_6FqDShNYTPXWYeYbNw      5   \n",
       "5186501  bPVPZeqMuYtU_yGCb4P-jg      5   \n",
       "\n",
       "                                                      text  \\\n",
       "5673545  My relationship with Klement Family Dental cam...   \n",
       "3283348  I wish they had half stars because honestly I ...   \n",
       "3288704  Classic old school sales with bait and switch....   \n",
       "5717680  The pizza is delicious and unusual. Their buff...   \n",
       "3808800  Roll out...  Roly Poly is pretty freakin aweso...   \n",
       "5472780  Came at midnight because I was craving a milks...   \n",
       "2235067  Just went there to pick up food for dinner. We...   \n",
       "2152100  I came here for brunch with friends. I like th...   \n",
       "3263794  More than disappointed to find my $20 worth of...   \n",
       "236996   UPDATE***  Received a call from the manager an...   \n",
       "6417957  Pretty good ice cream. The service was relaxed...   \n",
       "548541   Authentic Mexican food. Just delicious. Decent...   \n",
       "6572580  Wow! By far the best sushi and calamari I've e...   \n",
       "1502704  So we decided to try this place after another ...   \n",
       "5516338  If I could leave zero stars, I would.  Absolut...   \n",
       "3742934  Went here for a bday party two years ago. Sh**...   \n",
       "6175911  I've been in Pet Planet only a couple of times...   \n",
       "797670   I'd give this zero stars if I could.  Tried to...   \n",
       "3102174  This place is awesome ! The manager Julie is s...   \n",
       "5186501  Empty bowl I'm in NYC and I miss your food! We...   \n",
       "\n",
       "                       date  language  \n",
       "5673545 2016-10-30 00:02:32      True  \n",
       "3283348 2017-08-06 15:12:23      True  \n",
       "3288704 2015-07-09 23:33:30      True  \n",
       "5717680 2014-10-17 23:24:27      True  \n",
       "3808800 2013-01-22 22:46:59      True  \n",
       "5472780 2021-03-26 04:52:00      True  \n",
       "2235067 2016-09-24 02:05:20      True  \n",
       "2152100 2015-02-04 09:35:52      True  \n",
       "3263794 2018-12-29 20:12:36      True  \n",
       "236996  2012-09-04 18:19:37      True  \n",
       "6417957 2018-07-09 20:33:27      True  \n",
       "548541  2019-08-21 22:53:24      True  \n",
       "6572580 2015-02-11 14:21:41      True  \n",
       "1502704 2017-02-01 15:33:03      True  \n",
       "5516338 2020-09-04 22:21:09      True  \n",
       "3742934 2018-07-07 16:21:18      True  \n",
       "6175911 2012-10-20 15:34:22      True  \n",
       "797670  2014-05-11 04:35:22      True  \n",
       "3102174 2015-04-26 20:55:00      True  \n",
       "5186501 2015-04-10 23:02:29      True  "
      ]
     },
     "execution_count": 40,
     "metadata": {},
     "output_type": "execute_result"
    }
   ],
   "source": [
    "def isEnglish(string):\n",
    "    for character in string:\n",
    "        if ord(character) > 127:\n",
    "            return False\n",
    "    return True\n",
    "reviews_df['language'] = reviews_df['text'].apply(isEnglish)\n",
    "\n",
    "reviews_df.sample(20)"
   ]
  },
  {
   "cell_type": "code",
   "execution_count": 41,
   "metadata": {},
   "outputs": [
    {
     "data": {
      "text/plain": [
       "<bound method DataFrame.count of                     business_id  stars  \\\n",
       "2        YjUWPpI6HXG530lwP-fb2A      3   \n",
       "29       ltBBYdNzkeKdCNPDAsxwAA      2   \n",
       "68       PzhPMkaNYiKDTHoTG0r8rw      4   \n",
       "287      N2i1U4Z6GHEw9V02N2u6JA      5   \n",
       "382      JcP1z6eZBgTIcxWlyxSw0g      5   \n",
       "...                         ...    ...   \n",
       "6990166  GcdnRUlL97pSycc1WEOybQ      3   \n",
       "6990183  M_0zLqa-CAhNDXCXhmmwiA      2   \n",
       "6990189  1N9WC6FwF8MSc7BHbIP35A      4   \n",
       "6990207  kxOR-Z62MnMUlCZWQmd2iQ      4   \n",
       "6990211  VgPDZyDLIWe4NVetnvjqig      3   \n",
       "\n",
       "                                                      text  \\\n",
       "2        Family diner. Had the buffet. Eclectic assortm...   \n",
       "29       I at least have to give this restaurant two st...   \n",
       "68       After 3 weeks of working in the area I finally...   \n",
       "287      We used The Hollander Hotel for our wedding ho...   \n",
       "382      After today's lunch, Iris has moved to the top...   \n",
       "...                                                    ...   \n",
       "6990166  So, to be honest, I was not that impressed. Co...   \n",
       "6990183  Let me start by saying I try to always give a ...   \n",
       "6990189  Why 4 stars? Because it was a tasty lunch for ...   \n",
       "6990207  Great atmosphere, great service and great food...   \n",
       "6990211  Eh.  It was just ok.  While visiting Tampa som...   \n",
       "\n",
       "                       date  language  \n",
       "2       2014-02-05 20:30:30     False  \n",
       "29      2015-02-02 04:29:13     False  \n",
       "68      2016-09-18 22:43:18     False  \n",
       "287     2014-03-14 16:57:14     False  \n",
       "382     2010-05-14 22:21:21     False  \n",
       "...                     ...       ...  \n",
       "6990166 2018-09-08 20:54:31     False  \n",
       "6990183 2021-12-28 18:14:40     False  \n",
       "6990189 2019-12-19 15:23:43     False  \n",
       "6990207 2014-09-03 16:03:16     False  \n",
       "6990211 2019-03-02 13:06:11     False  \n",
       "\n",
       "[145486 rows x 5 columns]>"
      ]
     },
     "execution_count": 41,
     "metadata": {},
     "output_type": "execute_result"
    }
   ],
   "source": [
    "reviews_df[reviews_df['language'] == False].count"
   ]
  },
  {
   "cell_type": "code",
   "execution_count": 15,
   "metadata": {},
   "outputs": [
    {
     "data": {
      "text/plain": [
       "<bound method DataFrame.count of                     business_id  stars  \\\n",
       "0        XQfwVwDr-v0ZS3_CbbE5Xw      3   \n",
       "1        7ATYjTIgM3jUlt4UM3IypQ      5   \n",
       "3        kxX2SOes4o-D3ZQBkiMRfA      5   \n",
       "4        e4Vwtrqf-wpJfwesgvdgxQ      4   \n",
       "5        04UD14gamNjLY0IDYVhHJg      1   \n",
       "...                         ...    ...   \n",
       "6990275  jals67o91gcrD4DC81Vk6w      5   \n",
       "6990276  2vLksaMmSEcGbjI5gywpZA      5   \n",
       "6990277  R1khUUxidqfaJmcpmGd4aw      4   \n",
       "6990278  Rr9kKArrMhSLVE9a53q-aA      5   \n",
       "6990279  VAeEXLbEcI9Emt9KGYq9aA      3   \n",
       "\n",
       "                                                      text  \\\n",
       "0        If you decide to eat here, just be aware it is...   \n",
       "1        I've taken a lot of spin classes over the year...   \n",
       "3        Wow!  Yummy, different,  delicious.   Our favo...   \n",
       "4        Cute interior and owner (?) gave us tour of up...   \n",
       "5        I am a long term frequent customer of this est...   \n",
       "...                                                    ...   \n",
       "6990275  Latest addition to services from ICCU is Apple...   \n",
       "6990276  This spot offers a great, affordable east week...   \n",
       "6990277  This Home Depot won me over when I needed to g...   \n",
       "6990278  For when I'm feeling like ignoring my calorie-...   \n",
       "6990279  Located in the 'Walking District' in Nashville...   \n",
       "\n",
       "                       date  language  \n",
       "0       2018-07-07 22:09:11      True  \n",
       "1       2012-01-03 15:28:18      True  \n",
       "3       2015-01-04 00:01:03      True  \n",
       "4       2017-01-14 20:54:15      True  \n",
       "5       2015-09-23 23:10:31      True  \n",
       "...                     ...       ...  \n",
       "6990275 2014-12-17 21:45:20      True  \n",
       "6990276 2021-03-31 16:55:10      True  \n",
       "6990277 2019-12-30 03:56:30      True  \n",
       "6990278 2022-01-19 18:59:27      True  \n",
       "6990279 2018-01-02 22:50:47      True  \n",
       "\n",
       "[6829032 rows x 5 columns]>"
      ]
     },
     "execution_count": 15,
     "metadata": {},
     "output_type": "execute_result"
    }
   ],
   "source": [
    "reviews_df[reviews_df['language'] == True].count"
   ]
  },
  {
   "cell_type": "code",
   "execution_count": 42,
   "metadata": {},
   "outputs": [],
   "source": [
    "reviews_df = reviews_df[reviews_df['language'] == True]"
   ]
  },
  {
   "cell_type": "code",
   "execution_count": 5,
   "metadata": {},
   "outputs": [
    {
     "name": "stderr",
     "output_type": "stream",
     "text": [
      "[nltk_data] Downloading package vader_lexicon to\n",
      "[nltk_data]     /home/mroohwee/nltk_data...\n"
     ]
    },
    {
     "data": {
      "text/plain": [
       "True"
      ]
     },
     "execution_count": 5,
     "metadata": {},
     "output_type": "execute_result"
    }
   ],
   "source": [
    "nltk.download('vader_lexicon')"
   ]
  },
  {
   "cell_type": "code",
   "execution_count": 6,
   "metadata": {},
   "outputs": [
    {
     "ename": "KeyboardInterrupt",
     "evalue": "",
     "output_type": "error",
     "traceback": [
      "\u001b[0;31m---------------------------------------------------------------------------\u001b[0m",
      "\u001b[0;31mKeyboardInterrupt\u001b[0m                         Traceback (most recent call last)",
      "\u001b[0;32m/tmp/ipykernel_29182/3415885803.py\u001b[0m in \u001b[0;36m<module>\u001b[0;34m\u001b[0m\n\u001b[1;32m      5\u001b[0m     \u001b[0;31m# tokenize the text\u001b[0m\u001b[0;34m\u001b[0m\u001b[0;34m\u001b[0m\u001b[0m\n\u001b[1;32m      6\u001b[0m     \u001b[0mtokens\u001b[0m \u001b[0;34m=\u001b[0m \u001b[0mword_tokenize\u001b[0m\u001b[0;34m(\u001b[0m\u001b[0msentence\u001b[0m\u001b[0;34m.\u001b[0m\u001b[0mlower\u001b[0m\u001b[0;34m(\u001b[0m\u001b[0;34m)\u001b[0m\u001b[0;34m)\u001b[0m\u001b[0;34m\u001b[0m\u001b[0;34m\u001b[0m\u001b[0m\n\u001b[0;32m----> 7\u001b[0;31m     \u001b[0mtokens\u001b[0m \u001b[0;34m=\u001b[0m \u001b[0;34m[\u001b[0m\u001b[0mx\u001b[0m \u001b[0;32mfor\u001b[0m \u001b[0mx\u001b[0m \u001b[0;32min\u001b[0m \u001b[0mtokens\u001b[0m \u001b[0;32mif\u001b[0m \u001b[0mx\u001b[0m \u001b[0;32mnot\u001b[0m \u001b[0;32min\u001b[0m \u001b[0mstopwords\u001b[0m\u001b[0;34m.\u001b[0m\u001b[0mwords\u001b[0m\u001b[0;34m(\u001b[0m\u001b[0;34m'english'\u001b[0m\u001b[0;34m)\u001b[0m \u001b[0;32mand\u001b[0m \u001b[0mx\u001b[0m\u001b[0;34m.\u001b[0m\u001b[0misalpha\u001b[0m\u001b[0;34m(\u001b[0m\u001b[0;34m)\u001b[0m\u001b[0;34m]\u001b[0m\u001b[0;34m\u001b[0m\u001b[0;34m\u001b[0m\u001b[0m\n\u001b[0m\u001b[1;32m      8\u001b[0m     \u001b[0;31m# lematize the tokens\u001b[0m\u001b[0;34m\u001b[0m\u001b[0;34m\u001b[0m\u001b[0m\n\u001b[1;32m      9\u001b[0m     \u001b[0mlemma\u001b[0m \u001b[0;34m=\u001b[0m \u001b[0mWordNetLemmatizer\u001b[0m\u001b[0;34m(\u001b[0m\u001b[0;34m)\u001b[0m\u001b[0;34m\u001b[0m\u001b[0;34m\u001b[0m\u001b[0m\n",
      "\u001b[0;32m/tmp/ipykernel_29182/3415885803.py\u001b[0m in \u001b[0;36m<listcomp>\u001b[0;34m(.0)\u001b[0m\n\u001b[1;32m      5\u001b[0m     \u001b[0;31m# tokenize the text\u001b[0m\u001b[0;34m\u001b[0m\u001b[0;34m\u001b[0m\u001b[0m\n\u001b[1;32m      6\u001b[0m     \u001b[0mtokens\u001b[0m \u001b[0;34m=\u001b[0m \u001b[0mword_tokenize\u001b[0m\u001b[0;34m(\u001b[0m\u001b[0msentence\u001b[0m\u001b[0;34m.\u001b[0m\u001b[0mlower\u001b[0m\u001b[0;34m(\u001b[0m\u001b[0;34m)\u001b[0m\u001b[0;34m)\u001b[0m\u001b[0;34m\u001b[0m\u001b[0;34m\u001b[0m\u001b[0m\n\u001b[0;32m----> 7\u001b[0;31m     \u001b[0mtokens\u001b[0m \u001b[0;34m=\u001b[0m \u001b[0;34m[\u001b[0m\u001b[0mx\u001b[0m \u001b[0;32mfor\u001b[0m \u001b[0mx\u001b[0m \u001b[0;32min\u001b[0m \u001b[0mtokens\u001b[0m \u001b[0;32mif\u001b[0m \u001b[0mx\u001b[0m \u001b[0;32mnot\u001b[0m \u001b[0;32min\u001b[0m \u001b[0mstopwords\u001b[0m\u001b[0;34m.\u001b[0m\u001b[0mwords\u001b[0m\u001b[0;34m(\u001b[0m\u001b[0;34m'english'\u001b[0m\u001b[0;34m)\u001b[0m \u001b[0;32mand\u001b[0m \u001b[0mx\u001b[0m\u001b[0;34m.\u001b[0m\u001b[0misalpha\u001b[0m\u001b[0;34m(\u001b[0m\u001b[0;34m)\u001b[0m\u001b[0;34m]\u001b[0m\u001b[0;34m\u001b[0m\u001b[0;34m\u001b[0m\u001b[0m\n\u001b[0m\u001b[1;32m      8\u001b[0m     \u001b[0;31m# lematize the tokens\u001b[0m\u001b[0;34m\u001b[0m\u001b[0;34m\u001b[0m\u001b[0m\n\u001b[1;32m      9\u001b[0m     \u001b[0mlemma\u001b[0m \u001b[0;34m=\u001b[0m \u001b[0mWordNetLemmatizer\u001b[0m\u001b[0;34m(\u001b[0m\u001b[0;34m)\u001b[0m\u001b[0;34m\u001b[0m\u001b[0;34m\u001b[0m\u001b[0m\n",
      "\u001b[0;32m~/.local/lib/python3.10/site-packages/nltk/corpus/reader/wordlist.py\u001b[0m in \u001b[0;36mwords\u001b[0;34m(self, fileids, ignore_lines_startswith)\u001b[0m\n\u001b[1;32m     19\u001b[0m         return [\n\u001b[1;32m     20\u001b[0m             \u001b[0mline\u001b[0m\u001b[0;34m\u001b[0m\u001b[0;34m\u001b[0m\u001b[0m\n\u001b[0;32m---> 21\u001b[0;31m             \u001b[0;32mfor\u001b[0m \u001b[0mline\u001b[0m \u001b[0;32min\u001b[0m \u001b[0mline_tokenize\u001b[0m\u001b[0;34m(\u001b[0m\u001b[0mself\u001b[0m\u001b[0;34m.\u001b[0m\u001b[0mraw\u001b[0m\u001b[0;34m(\u001b[0m\u001b[0mfileids\u001b[0m\u001b[0;34m)\u001b[0m\u001b[0;34m)\u001b[0m\u001b[0;34m\u001b[0m\u001b[0;34m\u001b[0m\u001b[0m\n\u001b[0m\u001b[1;32m     22\u001b[0m             \u001b[0;32mif\u001b[0m \u001b[0;32mnot\u001b[0m \u001b[0mline\u001b[0m\u001b[0;34m.\u001b[0m\u001b[0mstartswith\u001b[0m\u001b[0;34m(\u001b[0m\u001b[0mignore_lines_startswith\u001b[0m\u001b[0;34m)\u001b[0m\u001b[0;34m\u001b[0m\u001b[0;34m\u001b[0m\u001b[0m\n\u001b[1;32m     23\u001b[0m         ]\n",
      "\u001b[0;32m~/.local/lib/python3.10/site-packages/nltk/corpus/reader/api.py\u001b[0m in \u001b[0;36mraw\u001b[0;34m(self, fileids)\u001b[0m\n\u001b[1;32m    216\u001b[0m         \u001b[0mcontents\u001b[0m \u001b[0;34m=\u001b[0m \u001b[0;34m[\u001b[0m\u001b[0;34m]\u001b[0m\u001b[0;34m\u001b[0m\u001b[0;34m\u001b[0m\u001b[0m\n\u001b[1;32m    217\u001b[0m         \u001b[0;32mfor\u001b[0m \u001b[0mf\u001b[0m \u001b[0;32min\u001b[0m \u001b[0mfileids\u001b[0m\u001b[0;34m:\u001b[0m\u001b[0;34m\u001b[0m\u001b[0;34m\u001b[0m\u001b[0m\n\u001b[0;32m--> 218\u001b[0;31m             \u001b[0;32mwith\u001b[0m \u001b[0mself\u001b[0m\u001b[0;34m.\u001b[0m\u001b[0mopen\u001b[0m\u001b[0;34m(\u001b[0m\u001b[0mf\u001b[0m\u001b[0;34m)\u001b[0m \u001b[0;32mas\u001b[0m \u001b[0mfp\u001b[0m\u001b[0;34m:\u001b[0m\u001b[0;34m\u001b[0m\u001b[0;34m\u001b[0m\u001b[0m\n\u001b[0m\u001b[1;32m    219\u001b[0m                 \u001b[0mcontents\u001b[0m\u001b[0;34m.\u001b[0m\u001b[0mappend\u001b[0m\u001b[0;34m(\u001b[0m\u001b[0mfp\u001b[0m\u001b[0;34m.\u001b[0m\u001b[0mread\u001b[0m\u001b[0;34m(\u001b[0m\u001b[0;34m)\u001b[0m\u001b[0;34m)\u001b[0m\u001b[0;34m\u001b[0m\u001b[0;34m\u001b[0m\u001b[0m\n\u001b[1;32m    220\u001b[0m         \u001b[0;32mreturn\u001b[0m \u001b[0mconcat\u001b[0m\u001b[0;34m(\u001b[0m\u001b[0mcontents\u001b[0m\u001b[0;34m)\u001b[0m\u001b[0;34m\u001b[0m\u001b[0;34m\u001b[0m\u001b[0m\n",
      "\u001b[0;32m~/.local/lib/python3.10/site-packages/nltk/corpus/reader/api.py\u001b[0m in \u001b[0;36mopen\u001b[0;34m(self, file)\u001b[0m\n\u001b[1;32m    229\u001b[0m         \"\"\"\n\u001b[1;32m    230\u001b[0m         \u001b[0mencoding\u001b[0m \u001b[0;34m=\u001b[0m \u001b[0mself\u001b[0m\u001b[0;34m.\u001b[0m\u001b[0mencoding\u001b[0m\u001b[0;34m(\u001b[0m\u001b[0mfile\u001b[0m\u001b[0;34m)\u001b[0m\u001b[0;34m\u001b[0m\u001b[0;34m\u001b[0m\u001b[0m\n\u001b[0;32m--> 231\u001b[0;31m         \u001b[0mstream\u001b[0m \u001b[0;34m=\u001b[0m \u001b[0mself\u001b[0m\u001b[0;34m.\u001b[0m\u001b[0m_root\u001b[0m\u001b[0;34m.\u001b[0m\u001b[0mjoin\u001b[0m\u001b[0;34m(\u001b[0m\u001b[0mfile\u001b[0m\u001b[0;34m)\u001b[0m\u001b[0;34m.\u001b[0m\u001b[0mopen\u001b[0m\u001b[0;34m(\u001b[0m\u001b[0mencoding\u001b[0m\u001b[0;34m)\u001b[0m\u001b[0;34m\u001b[0m\u001b[0;34m\u001b[0m\u001b[0m\n\u001b[0m\u001b[1;32m    232\u001b[0m         \u001b[0;32mreturn\u001b[0m \u001b[0mstream\u001b[0m\u001b[0;34m\u001b[0m\u001b[0;34m\u001b[0m\u001b[0m\n\u001b[1;32m    233\u001b[0m \u001b[0;34m\u001b[0m\u001b[0m\n",
      "\u001b[0;32m~/.local/lib/python3.10/site-packages/nltk/data.py\u001b[0m in \u001b[0;36mopen\u001b[0;34m(self, encoding)\u001b[0m\n\u001b[1;32m    324\u001b[0m         \u001b[0mstream\u001b[0m \u001b[0;34m=\u001b[0m \u001b[0mopen\u001b[0m\u001b[0;34m(\u001b[0m\u001b[0mself\u001b[0m\u001b[0;34m.\u001b[0m\u001b[0m_path\u001b[0m\u001b[0;34m,\u001b[0m \u001b[0;34m\"rb\"\u001b[0m\u001b[0;34m)\u001b[0m\u001b[0;34m\u001b[0m\u001b[0;34m\u001b[0m\u001b[0m\n\u001b[1;32m    325\u001b[0m         \u001b[0;32mif\u001b[0m \u001b[0mencoding\u001b[0m \u001b[0;32mis\u001b[0m \u001b[0;32mnot\u001b[0m \u001b[0;32mNone\u001b[0m\u001b[0;34m:\u001b[0m\u001b[0;34m\u001b[0m\u001b[0;34m\u001b[0m\u001b[0m\n\u001b[0;32m--> 326\u001b[0;31m             \u001b[0mstream\u001b[0m \u001b[0;34m=\u001b[0m \u001b[0mSeekableUnicodeStreamReader\u001b[0m\u001b[0;34m(\u001b[0m\u001b[0mstream\u001b[0m\u001b[0;34m,\u001b[0m \u001b[0mencoding\u001b[0m\u001b[0;34m)\u001b[0m\u001b[0;34m\u001b[0m\u001b[0;34m\u001b[0m\u001b[0m\n\u001b[0m\u001b[1;32m    327\u001b[0m         \u001b[0;32mreturn\u001b[0m \u001b[0mstream\u001b[0m\u001b[0;34m\u001b[0m\u001b[0;34m\u001b[0m\u001b[0m\n\u001b[1;32m    328\u001b[0m \u001b[0;34m\u001b[0m\u001b[0m\n",
      "\u001b[0;32m~/.local/lib/python3.10/site-packages/nltk/compat.py\u001b[0m in \u001b[0;36m_decorator\u001b[0;34m(*args, **kwargs)\u001b[0m\n\u001b[1;32m     39\u001b[0m     \u001b[0;32mdef\u001b[0m \u001b[0m_decorator\u001b[0m\u001b[0;34m(\u001b[0m\u001b[0;34m*\u001b[0m\u001b[0margs\u001b[0m\u001b[0;34m,\u001b[0m \u001b[0;34m**\u001b[0m\u001b[0mkwargs\u001b[0m\u001b[0;34m)\u001b[0m\u001b[0;34m:\u001b[0m\u001b[0;34m\u001b[0m\u001b[0;34m\u001b[0m\u001b[0m\n\u001b[1;32m     40\u001b[0m         \u001b[0margs\u001b[0m \u001b[0;34m=\u001b[0m \u001b[0;34m(\u001b[0m\u001b[0margs\u001b[0m\u001b[0;34m[\u001b[0m\u001b[0;36m0\u001b[0m\u001b[0;34m]\u001b[0m\u001b[0;34m,\u001b[0m \u001b[0madd_py3_data\u001b[0m\u001b[0;34m(\u001b[0m\u001b[0margs\u001b[0m\u001b[0;34m[\u001b[0m\u001b[0;36m1\u001b[0m\u001b[0;34m]\u001b[0m\u001b[0;34m)\u001b[0m\u001b[0;34m)\u001b[0m \u001b[0;34m+\u001b[0m \u001b[0margs\u001b[0m\u001b[0;34m[\u001b[0m\u001b[0;36m2\u001b[0m\u001b[0;34m:\u001b[0m\u001b[0;34m]\u001b[0m\u001b[0;34m\u001b[0m\u001b[0;34m\u001b[0m\u001b[0m\n\u001b[0;32m---> 41\u001b[0;31m         \u001b[0;32mreturn\u001b[0m \u001b[0minit_func\u001b[0m\u001b[0;34m(\u001b[0m\u001b[0;34m*\u001b[0m\u001b[0margs\u001b[0m\u001b[0;34m,\u001b[0m \u001b[0;34m**\u001b[0m\u001b[0mkwargs\u001b[0m\u001b[0;34m)\u001b[0m\u001b[0;34m\u001b[0m\u001b[0;34m\u001b[0m\u001b[0m\n\u001b[0m\u001b[1;32m     42\u001b[0m \u001b[0;34m\u001b[0m\u001b[0m\n\u001b[1;32m     43\u001b[0m     \u001b[0;32mreturn\u001b[0m \u001b[0mwraps\u001b[0m\u001b[0;34m(\u001b[0m\u001b[0minit_func\u001b[0m\u001b[0;34m)\u001b[0m\u001b[0;34m(\u001b[0m\u001b[0m_decorator\u001b[0m\u001b[0;34m)\u001b[0m\u001b[0;34m\u001b[0m\u001b[0;34m\u001b[0m\u001b[0m\n",
      "\u001b[0;32m~/.local/lib/python3.10/site-packages/nltk/data.py\u001b[0m in \u001b[0;36m__init__\u001b[0;34m(self, stream, encoding, errors)\u001b[0m\n\u001b[1;32m   1035\u001b[0m            beginning of ``linebuffer`` (which is required by ``tell()``).\"\"\"\n\u001b[1;32m   1036\u001b[0m \u001b[0;34m\u001b[0m\u001b[0m\n\u001b[0;32m-> 1037\u001b[0;31m         \u001b[0mself\u001b[0m\u001b[0;34m.\u001b[0m\u001b[0m_bom\u001b[0m \u001b[0;34m=\u001b[0m \u001b[0mself\u001b[0m\u001b[0;34m.\u001b[0m\u001b[0m_check_bom\u001b[0m\u001b[0;34m(\u001b[0m\u001b[0;34m)\u001b[0m\u001b[0;34m\u001b[0m\u001b[0;34m\u001b[0m\u001b[0m\n\u001b[0m\u001b[1;32m   1038\u001b[0m         \"\"\"The length of the byte order marker at the beginning of\n\u001b[1;32m   1039\u001b[0m            the stream (or None for no byte order marker).\"\"\"\n",
      "\u001b[0;32m~/.local/lib/python3.10/site-packages/nltk/data.py\u001b[0m in \u001b[0;36m_check_bom\u001b[0;34m(self)\u001b[0m\n\u001b[1;32m   1408\u001b[0m         \u001b[0;32mif\u001b[0m \u001b[0mbom_info\u001b[0m\u001b[0;34m:\u001b[0m\u001b[0;34m\u001b[0m\u001b[0;34m\u001b[0m\u001b[0m\n\u001b[1;32m   1409\u001b[0m             \u001b[0;31m# Read a prefix, to check against the BOM(s)\u001b[0m\u001b[0;34m\u001b[0m\u001b[0;34m\u001b[0m\u001b[0m\n\u001b[0;32m-> 1410\u001b[0;31m             \u001b[0mbytes\u001b[0m \u001b[0;34m=\u001b[0m \u001b[0mself\u001b[0m\u001b[0;34m.\u001b[0m\u001b[0mstream\u001b[0m\u001b[0;34m.\u001b[0m\u001b[0mread\u001b[0m\u001b[0;34m(\u001b[0m\u001b[0;36m16\u001b[0m\u001b[0;34m)\u001b[0m\u001b[0;34m\u001b[0m\u001b[0;34m\u001b[0m\u001b[0m\n\u001b[0m\u001b[1;32m   1411\u001b[0m             \u001b[0mself\u001b[0m\u001b[0;34m.\u001b[0m\u001b[0mstream\u001b[0m\u001b[0;34m.\u001b[0m\u001b[0mseek\u001b[0m\u001b[0;34m(\u001b[0m\u001b[0;36m0\u001b[0m\u001b[0;34m)\u001b[0m\u001b[0;34m\u001b[0m\u001b[0;34m\u001b[0m\u001b[0m\n\u001b[1;32m   1412\u001b[0m \u001b[0;34m\u001b[0m\u001b[0m\n",
      "\u001b[0;31mKeyboardInterrupt\u001b[0m: "
     ]
    }
   ],
   "source": [
    "scores = []\n",
    "for i in range(len(reviews_df)):\n",
    "    # get the text in the review\n",
    "    sentence = reviews_df.iloc[i][2].strip()\n",
    "    # tokenize the text\n",
    "    tokens = word_tokenize(sentence.lower())\n",
    "    tokens = [x for x in tokens if x not in stopwords.words('english') and x.isalpha()]\n",
    "    # lematize the tokens\n",
    "    lemma = WordNetLemmatizer()\n",
    "    tokens = [lemma.lemmatize(x) for x in tokens]\n",
    "    final_text = ' '.join(tokens)\n",
    "    # analyze the sentence\n",
    "    analyzer = SentimentIntensityAnalyzer()\n",
    "    score = analyzer.polarity_scores(final_text)\n",
    "    scores.append(score)"
   ]
  },
  {
   "cell_type": "code",
   "execution_count": 23,
   "metadata": {},
   "outputs": [
    {
     "data": {
      "text/html": [
       "<div>\n",
       "<style scoped>\n",
       "    .dataframe tbody tr th:only-of-type {\n",
       "        vertical-align: middle;\n",
       "    }\n",
       "\n",
       "    .dataframe tbody tr th {\n",
       "        vertical-align: top;\n",
       "    }\n",
       "\n",
       "    .dataframe thead th {\n",
       "        text-align: right;\n",
       "    }\n",
       "</style>\n",
       "<table border=\"1\" class=\"dataframe\">\n",
       "  <thead>\n",
       "    <tr style=\"text-align: right;\">\n",
       "      <th></th>\n",
       "      <th>neg</th>\n",
       "      <th>neu</th>\n",
       "      <th>pos</th>\n",
       "      <th>compound</th>\n",
       "    </tr>\n",
       "  </thead>\n",
       "  <tbody>\n",
       "    <tr>\n",
       "      <th>0</th>\n",
       "      <td>0.000</td>\n",
       "      <td>0.747</td>\n",
       "      <td>0.253</td>\n",
       "      <td>0.8968</td>\n",
       "    </tr>\n",
       "    <tr>\n",
       "      <th>1</th>\n",
       "      <td>0.040</td>\n",
       "      <td>0.557</td>\n",
       "      <td>0.403</td>\n",
       "      <td>0.9883</td>\n",
       "    </tr>\n",
       "    <tr>\n",
       "      <th>2</th>\n",
       "      <td>0.000</td>\n",
       "      <td>0.669</td>\n",
       "      <td>0.331</td>\n",
       "      <td>0.9360</td>\n",
       "    </tr>\n",
       "    <tr>\n",
       "      <th>3</th>\n",
       "      <td>0.000</td>\n",
       "      <td>0.441</td>\n",
       "      <td>0.559</td>\n",
       "      <td>0.9652</td>\n",
       "    </tr>\n",
       "    <tr>\n",
       "      <th>4</th>\n",
       "      <td>0.024</td>\n",
       "      <td>0.604</td>\n",
       "      <td>0.372</td>\n",
       "      <td>0.9792</td>\n",
       "    </tr>\n",
       "    <tr>\n",
       "      <th>5</th>\n",
       "      <td>0.139</td>\n",
       "      <td>0.552</td>\n",
       "      <td>0.309</td>\n",
       "      <td>0.8074</td>\n",
       "    </tr>\n",
       "    <tr>\n",
       "      <th>6</th>\n",
       "      <td>0.096</td>\n",
       "      <td>0.638</td>\n",
       "      <td>0.267</td>\n",
       "      <td>0.9523</td>\n",
       "    </tr>\n",
       "    <tr>\n",
       "      <th>7</th>\n",
       "      <td>0.000</td>\n",
       "      <td>0.390</td>\n",
       "      <td>0.610</td>\n",
       "      <td>0.9678</td>\n",
       "    </tr>\n",
       "    <tr>\n",
       "      <th>8</th>\n",
       "      <td>0.200</td>\n",
       "      <td>0.593</td>\n",
       "      <td>0.206</td>\n",
       "      <td>0.1300</td>\n",
       "    </tr>\n",
       "    <tr>\n",
       "      <th>9</th>\n",
       "      <td>0.035</td>\n",
       "      <td>0.587</td>\n",
       "      <td>0.378</td>\n",
       "      <td>0.9696</td>\n",
       "    </tr>\n",
       "  </tbody>\n",
       "</table>\n",
       "</div>"
      ],
      "text/plain": [
       "     neg    neu    pos  compound\n",
       "0  0.000  0.747  0.253    0.8968\n",
       "1  0.040  0.557  0.403    0.9883\n",
       "2  0.000  0.669  0.331    0.9360\n",
       "3  0.000  0.441  0.559    0.9652\n",
       "4  0.024  0.604  0.372    0.9792\n",
       "5  0.139  0.552  0.309    0.8074\n",
       "6  0.096  0.638  0.267    0.9523\n",
       "7  0.000  0.390  0.610    0.9678\n",
       "8  0.200  0.593  0.206    0.1300\n",
       "9  0.035  0.587  0.378    0.9696"
      ]
     },
     "execution_count": 23,
     "metadata": {},
     "output_type": "execute_result"
    }
   ],
   "source": [
    "scores_df = pd.DataFrame(scores)\n",
    "scores_df.head(10)"
   ]
  },
  {
   "cell_type": "code",
   "execution_count": 24,
   "metadata": {},
   "outputs": [
    {
     "data": {
      "text/html": [
       "<div>\n",
       "<style scoped>\n",
       "    .dataframe tbody tr th:only-of-type {\n",
       "        vertical-align: middle;\n",
       "    }\n",
       "\n",
       "    .dataframe tbody tr th {\n",
       "        vertical-align: top;\n",
       "    }\n",
       "\n",
       "    .dataframe thead th {\n",
       "        text-align: right;\n",
       "    }\n",
       "</style>\n",
       "<table border=\"1\" class=\"dataframe\">\n",
       "  <thead>\n",
       "    <tr style=\"text-align: right;\">\n",
       "      <th></th>\n",
       "      <th>business_id</th>\n",
       "      <th>stars</th>\n",
       "      <th>text</th>\n",
       "      <th>date</th>\n",
       "      <th>neg</th>\n",
       "      <th>neu</th>\n",
       "      <th>pos</th>\n",
       "      <th>compound</th>\n",
       "    </tr>\n",
       "  </thead>\n",
       "  <tbody>\n",
       "    <tr>\n",
       "      <th>0</th>\n",
       "      <td>XQfwVwDr-v0ZS3_CbbE5Xw</td>\n",
       "      <td>3.0</td>\n",
       "      <td>If you decide to eat here, just be aware it is...</td>\n",
       "      <td>2018-07-07 22:09:11</td>\n",
       "      <td>0.000</td>\n",
       "      <td>0.747</td>\n",
       "      <td>0.253</td>\n",
       "      <td>0.8968</td>\n",
       "    </tr>\n",
       "    <tr>\n",
       "      <th>1</th>\n",
       "      <td>7ATYjTIgM3jUlt4UM3IypQ</td>\n",
       "      <td>5.0</td>\n",
       "      <td>I've taken a lot of spin classes over the year...</td>\n",
       "      <td>2012-01-03 15:28:18</td>\n",
       "      <td>0.040</td>\n",
       "      <td>0.557</td>\n",
       "      <td>0.403</td>\n",
       "      <td>0.9883</td>\n",
       "    </tr>\n",
       "    <tr>\n",
       "      <th>2</th>\n",
       "      <td>YjUWPpI6HXG530lwP-fb2A</td>\n",
       "      <td>3.0</td>\n",
       "      <td>Family diner. Had the buffet. Eclectic assortm...</td>\n",
       "      <td>2014-02-05 20:30:30</td>\n",
       "      <td>0.000</td>\n",
       "      <td>0.669</td>\n",
       "      <td>0.331</td>\n",
       "      <td>0.9360</td>\n",
       "    </tr>\n",
       "    <tr>\n",
       "      <th>3</th>\n",
       "      <td>kxX2SOes4o-D3ZQBkiMRfA</td>\n",
       "      <td>5.0</td>\n",
       "      <td>Wow!  Yummy, different,  delicious.   Our favo...</td>\n",
       "      <td>2015-01-04 00:01:03</td>\n",
       "      <td>0.000</td>\n",
       "      <td>0.441</td>\n",
       "      <td>0.559</td>\n",
       "      <td>0.9652</td>\n",
       "    </tr>\n",
       "    <tr>\n",
       "      <th>4</th>\n",
       "      <td>e4Vwtrqf-wpJfwesgvdgxQ</td>\n",
       "      <td>4.0</td>\n",
       "      <td>Cute interior and owner (?) gave us tour of up...</td>\n",
       "      <td>2017-01-14 20:54:15</td>\n",
       "      <td>0.024</td>\n",
       "      <td>0.604</td>\n",
       "      <td>0.372</td>\n",
       "      <td>0.9792</td>\n",
       "    </tr>\n",
       "    <tr>\n",
       "      <th>...</th>\n",
       "      <td>...</td>\n",
       "      <td>...</td>\n",
       "      <td>...</td>\n",
       "      <td>...</td>\n",
       "      <td>...</td>\n",
       "      <td>...</td>\n",
       "      <td>...</td>\n",
       "      <td>...</td>\n",
       "    </tr>\n",
       "    <tr>\n",
       "      <th>4995</th>\n",
       "      <td>ZY2feSm2sc5nTXYHnKpMGQ</td>\n",
       "      <td>4.0</td>\n",
       "      <td>After trying the pizza here on Halloween night...</td>\n",
       "      <td>2015-12-05 11:37:33</td>\n",
       "      <td>0.134</td>\n",
       "      <td>0.584</td>\n",
       "      <td>0.282</td>\n",
       "      <td>0.9485</td>\n",
       "    </tr>\n",
       "    <tr>\n",
       "      <th>4996</th>\n",
       "      <td>bKgyXSQUGA8IHGt8ne5NuA</td>\n",
       "      <td>5.0</td>\n",
       "      <td>Went here today with my family and I must say ...</td>\n",
       "      <td>2015-12-21 08:16:29</td>\n",
       "      <td>0.000</td>\n",
       "      <td>0.473</td>\n",
       "      <td>0.527</td>\n",
       "      <td>0.9815</td>\n",
       "    </tr>\n",
       "    <tr>\n",
       "      <th>4997</th>\n",
       "      <td>l7b33ubze8Jqw7C4I1CAuA</td>\n",
       "      <td>1.0</td>\n",
       "      <td>My Room was disgusting. The odor when I walked...</td>\n",
       "      <td>2012-03-30 05:33:31</td>\n",
       "      <td>0.190</td>\n",
       "      <td>0.731</td>\n",
       "      <td>0.078</td>\n",
       "      <td>-0.9008</td>\n",
       "    </tr>\n",
       "    <tr>\n",
       "      <th>4998</th>\n",
       "      <td>cXAKeC-EgVChIxhS7fscmw</td>\n",
       "      <td>5.0</td>\n",
       "      <td>First time my girlfriend and I came here and i...</td>\n",
       "      <td>2018-01-09 22:18:57</td>\n",
       "      <td>0.000</td>\n",
       "      <td>0.495</td>\n",
       "      <td>0.505</td>\n",
       "      <td>0.9604</td>\n",
       "    </tr>\n",
       "    <tr>\n",
       "      <th>4999</th>\n",
       "      <td>FSTmzo0beEVMRMSArcp4fg</td>\n",
       "      <td>1.0</td>\n",
       "      <td>by far the WORST effort at chain mexican food....</td>\n",
       "      <td>2014-02-24 01:30:46</td>\n",
       "      <td>0.191</td>\n",
       "      <td>0.743</td>\n",
       "      <td>0.066</td>\n",
       "      <td>-0.6908</td>\n",
       "    </tr>\n",
       "  </tbody>\n",
       "</table>\n",
       "<p>5000 rows × 8 columns</p>\n",
       "</div>"
      ],
      "text/plain": [
       "                 business_id  stars  \\\n",
       "0     XQfwVwDr-v0ZS3_CbbE5Xw    3.0   \n",
       "1     7ATYjTIgM3jUlt4UM3IypQ    5.0   \n",
       "2     YjUWPpI6HXG530lwP-fb2A    3.0   \n",
       "3     kxX2SOes4o-D3ZQBkiMRfA    5.0   \n",
       "4     e4Vwtrqf-wpJfwesgvdgxQ    4.0   \n",
       "...                      ...    ...   \n",
       "4995  ZY2feSm2sc5nTXYHnKpMGQ    4.0   \n",
       "4996  bKgyXSQUGA8IHGt8ne5NuA    5.0   \n",
       "4997  l7b33ubze8Jqw7C4I1CAuA    1.0   \n",
       "4998  cXAKeC-EgVChIxhS7fscmw    5.0   \n",
       "4999  FSTmzo0beEVMRMSArcp4fg    1.0   \n",
       "\n",
       "                                                   text                 date  \\\n",
       "0     If you decide to eat here, just be aware it is...  2018-07-07 22:09:11   \n",
       "1     I've taken a lot of spin classes over the year...  2012-01-03 15:28:18   \n",
       "2     Family diner. Had the buffet. Eclectic assortm...  2014-02-05 20:30:30   \n",
       "3     Wow!  Yummy, different,  delicious.   Our favo...  2015-01-04 00:01:03   \n",
       "4     Cute interior and owner (?) gave us tour of up...  2017-01-14 20:54:15   \n",
       "...                                                 ...                  ...   \n",
       "4995  After trying the pizza here on Halloween night...  2015-12-05 11:37:33   \n",
       "4996  Went here today with my family and I must say ...  2015-12-21 08:16:29   \n",
       "4997  My Room was disgusting. The odor when I walked...  2012-03-30 05:33:31   \n",
       "4998  First time my girlfriend and I came here and i...  2018-01-09 22:18:57   \n",
       "4999  by far the WORST effort at chain mexican food....  2014-02-24 01:30:46   \n",
       "\n",
       "        neg    neu    pos  compound  \n",
       "0     0.000  0.747  0.253    0.8968  \n",
       "1     0.040  0.557  0.403    0.9883  \n",
       "2     0.000  0.669  0.331    0.9360  \n",
       "3     0.000  0.441  0.559    0.9652  \n",
       "4     0.024  0.604  0.372    0.9792  \n",
       "...     ...    ...    ...       ...  \n",
       "4995  0.134  0.584  0.282    0.9485  \n",
       "4996  0.000  0.473  0.527    0.9815  \n",
       "4997  0.190  0.731  0.078   -0.9008  \n",
       "4998  0.000  0.495  0.505    0.9604  \n",
       "4999  0.191  0.743  0.066   -0.6908  \n",
       "\n",
       "[5000 rows x 8 columns]"
      ]
     },
     "execution_count": 24,
     "metadata": {},
     "output_type": "execute_result"
    }
   ],
   "source": [
    "new_df = pd.concat([reviews_df, scores_df], axis=1) \n",
    "new_df"
   ]
  }
 ],
 "metadata": {
  "kernelspec": {
   "display_name": "Python 3 (ipykernel)",
   "language": "python",
   "name": "python3"
  },
  "language_info": {
   "codemirror_mode": {
    "name": "ipython",
    "version": 3
   },
   "file_extension": ".py",
   "mimetype": "text/x-python",
   "name": "python",
   "nbconvert_exporter": "python",
   "pygments_lexer": "ipython3",
   "version": "3.10.6"
  },
  "orig_nbformat": 4
 },
 "nbformat": 4,
 "nbformat_minor": 2
}
